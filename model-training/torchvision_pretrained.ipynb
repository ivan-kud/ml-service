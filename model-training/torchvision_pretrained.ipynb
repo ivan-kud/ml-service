{
 "cells": [
  {
   "cell_type": "code",
   "execution_count": 32,
   "id": "32cb5988-e1f7-4a1b-972e-c1d17b76a6d9",
   "metadata": {},
   "outputs": [],
   "source": [
    "from PIL import Image\n",
    "from torchvision.models import resnet50, ResNet50_Weights"
   ]
  },
  {
   "cell_type": "code",
   "execution_count": 55,
   "id": "e267e834-4480-46cc-b3fa-8381b2978d0e",
   "metadata": {},
   "outputs": [],
   "source": [
    "weights = ResNet50_Weights.DEFAULT"
   ]
  },
  {
   "cell_type": "code",
   "execution_count": 56,
   "id": "b7da05a1-b491-4c22-84ed-2a160bf52553",
   "metadata": {},
   "outputs": [],
   "source": [
    "preprocess_image = weights.transforms()"
   ]
  },
  {
   "cell_type": "code",
   "execution_count": 57,
   "id": "63309171-f266-455f-be57-e8ea896160ed",
   "metadata": {},
   "outputs": [],
   "source": [
    "model = resnet50(weights=weights)"
   ]
  },
  {
   "cell_type": "code",
   "execution_count": 58,
   "id": "0644c519-7e07-40f0-b644-7e632b8479c4",
   "metadata": {},
   "outputs": [],
   "source": [
    "img = Image.open('image.png')\n",
    "background = Image.new('RGBA', img.size, (255,255,255,255))\n",
    "img = Image.alpha_composite(background, img)\n",
    "img = img.convert('RGB')"
   ]
  },
  {
   "cell_type": "code",
   "execution_count": 59,
   "id": "6c1879e7-fc77-4dd7-a79b-4e8714b8e1df",
   "metadata": {},
   "outputs": [],
   "source": [
    "img_transformed = preprocess_image(img_pil_no_alpha).unsqueeze(0)\n",
    "img_transformed.shape"
   ]
  },
  {
   "cell_type": "code",
   "execution_count": 62,
   "id": "0707a9b9-8476-45c1-b9f5-f0627ed5e567",
   "metadata": {},
   "outputs": [
    {
     "name": "stdout",
     "output_type": "stream",
     "text": [
      "airship: 0.2%\n"
     ]
    }
   ],
   "source": [
    "prediction = model(img_transformed).squeeze(0).softmax(0)\n",
    "class_id = prediction.argmax().item()\n",
    "score = prediction[class_id].item()\n",
    "category_name = weights.meta[\"categories\"][class_id]\n",
    "print(f\"{category_name}: {100 * score:.1f}%\")"
   ]
  }
 ],
 "metadata": {
  "kernelspec": {
   "display_name": "Python 3 (ipykernel)",
   "language": "python",
   "name": "python3"
  },
  "language_info": {
   "codemirror_mode": {
    "name": "ipython",
    "version": 3
   },
   "file_extension": ".py",
   "mimetype": "text/x-python",
   "name": "python",
   "nbconvert_exporter": "python",
   "pygments_lexer": "ipython3",
   "version": "3.10.8"
  },
  "toc-showtags": false
 },
 "nbformat": 4,
 "nbformat_minor": 5
}
