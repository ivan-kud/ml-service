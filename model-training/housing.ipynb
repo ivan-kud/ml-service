{
 "cells": [
  {
   "cell_type": "markdown",
   "id": "b5f06677-6f5d-4efd-a04a-fb8c07745e1e",
   "metadata": {},
   "source": [
    "# Libraries importing"
   ]
  },
  {
   "cell_type": "code",
   "execution_count": 1,
   "id": "2c1dd8a2-93a1-4980-a6ca-c3e61d745350",
   "metadata": {},
   "outputs": [
    {
     "name": "stdout",
     "output_type": "stream",
     "text": [
      "Python:          3.10.9 (v3.10.9:1dd9be6584, Dec  6 2022, 14:37:36) [Clang 13.0.0 (clang-1300.0.29.30)]\n",
      "Scikit-learn:    1.3.0\n",
      "CatBoost:        1.2.1\n"
     ]
    }
   ],
   "source": [
    "from collections import defaultdict\n",
    "import math\n",
    "import os\n",
    "import pickle\n",
    "import requests\n",
    "import sys\n",
    "import warnings\n",
    "\n",
    "import catboost\n",
    "from catboost import CatBoostRegressor, Pool\n",
    "from bs4 import BeautifulSoup\n",
    "import matplotlib.pyplot as plt\n",
    "import missingno\n",
    "import numpy as np\n",
    "import pandas as pd\n",
    "import seaborn as sns\n",
    "import sklearn\n",
    "from sklearn.dummy import DummyRegressor\n",
    "from sklearn.ensemble import RandomForestRegressor, GradientBoostingRegressor\n",
    "from sklearn.metrics import mean_absolute_error, mean_squared_error, mean_absolute_percentage_error\n",
    "from sklearn.model_selection import train_test_split\n",
    "from sklearn.preprocessing import OneHotEncoder\n",
    "from sklearn.tree import DecisionTreeRegressor\n",
    "\n",
    "print('Python:'.ljust(16), sys.version.split('\\n')[0])\n",
    "print('Scikit-learn:'.ljust(16), sklearn.__version__)\n",
    "print('CatBoost:'.ljust(16), catboost.__version__)"
   ]
  },
  {
   "cell_type": "code",
   "execution_count": 2,
   "id": "bd547fa2-e3c7-419f-9336-d0eae12f3f71",
   "metadata": {},
   "outputs": [],
   "source": [
    "# Save requirements\n",
    "!pip freeze > requirements.txt"
   ]
  },
  {
   "cell_type": "markdown",
   "id": "34035360-5c54-4560-82b5-da13898b814b",
   "metadata": {},
   "source": [
    "# Constants definition"
   ]
  },
  {
   "cell_type": "code",
   "execution_count": 3,
   "id": "98c430e8-b5fd-438a-85f6-fd4ceace3460",
   "metadata": {},
   "outputs": [],
   "source": [
    "DATA_PATH = './data/'\n",
    "MODELS_PATH = './models/'\n",
    "RANDOM_STATE = 424242\n",
    "VALIDATION_SIZE = 0.2\n",
    "\n",
    "TRAIN = 'TRAIN'  # Feature to separate training and validation parts\n",
    "TARGET = 'Цена'  # Target feature"
   ]
  },
  {
   "cell_type": "markdown",
   "id": "df10ff0e-a960-486f-8193-65e92e0b8bfe",
   "metadata": {},
   "source": [
    "# Dataset parsing"
   ]
  },
  {
   "cell_type": "code",
   "execution_count": 4,
   "id": "f6f03438-d3c8-4b50-a700-8c33a6d7a088",
   "metadata": {},
   "outputs": [],
   "source": [
    "def get_links(base_url, pages):\n",
    "    links = []\n",
    "    for page in pages:\n",
    "        # Get response from page\n",
    "        response = requests.get(url + str(page))\n",
    "\n",
    "        # Check response status\n",
    "        if response.status_code == 200:\n",
    "            print(f'Page {page} received')\n",
    "\n",
    "            # Find links on a page\n",
    "            soup = BeautifulSoup(response.content, 'html.parser')\n",
    "            for a in soup.find_all(class_='adv-list-image__link'):\n",
    "                links.append('http://citystar.ru/' + a['href'])\n",
    "        else:\n",
    "            print(f'Page {page} error: code {response.status_code}')\n",
    "\n",
    "    return links\n",
    "\n",
    "\n",
    "def get_data_from_links(links):\n",
    "    data = defaultdict(list)\n",
    "    for link in links:\n",
    "        # Append link to data\n",
    "        data['link'].append(link)\n",
    "        \n",
    "        # Get response from page\n",
    "        response = requests.get(link)\n",
    "        \n",
    "        # Check response status\n",
    "        if response.status_code == 200:\n",
    "            # Find data on a page\n",
    "            soup = BeautifulSoup(response.content, 'html.parser')\n",
    "            soup = soup.find(class_='data-table')\n",
    "            soup = soup.find_all(class_='fin')\n",
    "            for k, v in zip(soup[0::2], soup[1::2]):\n",
    "                data[str(k.contents[0])].append(str(v.contents[0]) if len(v.contents) > 0 else None)\n",
    "        else:\n",
    "            print(f'Page {link} error: code {response.status_code}')\n",
    "\n",
    "    return pd.DataFrame(data)"
   ]
  },
  {
   "cell_type": "code",
   "execution_count": 5,
   "id": "5d579f34-4a9c-4766-a4f0-5a13ef40eba6",
   "metadata": {},
   "outputs": [
    {
     "name": "stdout",
     "output_type": "stream",
     "text": [
      "CPU times: user 2.67 ms, sys: 1.72 ms, total: 4.39 ms\n",
      "Wall time: 4.23 ms\n"
     ]
    }
   ],
   "source": [
    "%%time\n",
    "data_file = DATA_PATH + 'data.pickle'\n",
    "url = 'http://citystar.ru/detal.htm?d=43&pN='\n",
    "pages = range(1, 6)\n",
    "\n",
    "# Check if data file is already exists\n",
    "if os.path.isfile(data_file):\n",
    "    # Load data from disk\n",
    "    df = pd.read_pickle(data_file)\n",
    "else:\n",
    "    # Parse data from the Internet\n",
    "    links = get_links(url, pages)\n",
    "    df = get_data_from_links(links)\n",
    "\n",
    "    # Save data to disk\n",
    "    df.to_pickle(data_file)"
   ]
  },
  {
   "cell_type": "code",
   "execution_count": 6,
   "id": "edba6b3f-8c01-48d6-a8e6-453bc2d8e811",
   "metadata": {},
   "outputs": [
    {
     "data": {
      "text/html": [
       "<div>\n",
       "<style scoped>\n",
       "    .dataframe tbody tr th:only-of-type {\n",
       "        vertical-align: middle;\n",
       "    }\n",
       "\n",
       "    .dataframe tbody tr th {\n",
       "        vertical-align: top;\n",
       "    }\n",
       "\n",
       "    .dataframe thead th {\n",
       "        text-align: right;\n",
       "    }\n",
       "</style>\n",
       "<table border=\"1\" class=\"dataframe\">\n",
       "  <thead>\n",
       "    <tr style=\"text-align: right;\">\n",
       "      <th></th>\n",
       "      <th>link</th>\n",
       "      <th>Дата подачи</th>\n",
       "      <th>Дата обновления</th>\n",
       "      <th>Примечание</th>\n",
       "      <th>Тип квартиры</th>\n",
       "      <th>Район</th>\n",
       "      <th>Адрес</th>\n",
       "      <th>Дом</th>\n",
       "      <th>Этаж</th>\n",
       "      <th>Планировка</th>\n",
       "      <th>о</th>\n",
       "      <th>ж</th>\n",
       "      <th>к</th>\n",
       "      <th>цена (т.р.)</th>\n",
       "      <th>Телефон</th>\n",
       "      <th>Имя</th>\n",
       "      <th>E-mail</th>\n",
       "      <th>Просмотров:</th>\n",
       "    </tr>\n",
       "  </thead>\n",
       "  <tbody>\n",
       "    <tr>\n",
       "      <th>0</th>\n",
       "      <td>http://citystar.ru/scard.asp?d=43&amp;id=15909831</td>\n",
       "      <td>30.08.2023 15:22:27</td>\n",
       "      <td>02.09.2023 14:03:02</td>\n",
       "      <td>В продаже 4-х комнатная квартира. С хорошим ре...</td>\n",
       "      <td>Трехкомнатная</td>\n",
       "      <td>Орджоникидзевский</td>\n",
       "      <td>Труда</td>\n",
       "      <td>14</td>\n",
       "      <td>8/9</td>\n",
       "      <td>None</td>\n",
       "      <td>80.00</td>\n",
       "      <td>53.00</td>\n",
       "      <td>9.00</td>\n",
       "      <td>5999</td>\n",
       "      <td>8-902-619-83-08</td>\n",
       "      <td>Юлия Юрьевна</td>\n",
       "      <td>None</td>\n",
       "      <td>40</td>\n",
       "    </tr>\n",
       "    <tr>\n",
       "      <th>1</th>\n",
       "      <td>http://citystar.ru/scard.asp?d=43&amp;id=15909830</td>\n",
       "      <td>30.08.2023 14:57:57</td>\n",
       "      <td>02.09.2023 14:02:56</td>\n",
       "      <td>Продается 4-х комнатная квартира нестандартной...</td>\n",
       "      <td>Четырехкомнатная</td>\n",
       "      <td>Орджоникидзевский</td>\n",
       "      <td>Труда</td>\n",
       "      <td>18</td>\n",
       "      <td>9/9</td>\n",
       "      <td>None</td>\n",
       "      <td>79.00</td>\n",
       "      <td>52.70</td>\n",
       "      <td>8.20</td>\n",
       "      <td>6350</td>\n",
       "      <td>8-902-619-83-08</td>\n",
       "      <td>Юлия Юрьевна</td>\n",
       "      <td>None</td>\n",
       "      <td>27</td>\n",
       "    </tr>\n",
       "    <tr>\n",
       "      <th>2</th>\n",
       "      <td>http://citystar.ru/scard.asp?d=43&amp;id=15927949</td>\n",
       "      <td>02.09.2023 14:02:00</td>\n",
       "      <td>02.09.2023 14:02:21</td>\n",
       "      <td>Продам 3-х комнатную квартиру\\r\\nпремиум-класс...</td>\n",
       "      <td>Трехкомнатная</td>\n",
       "      <td>Орджоникидзевский</td>\n",
       "      <td>Ленина пр-т</td>\n",
       "      <td>129/2</td>\n",
       "      <td>6/9</td>\n",
       "      <td>None</td>\n",
       "      <td>105.00</td>\n",
       "      <td>78.00</td>\n",
       "      <td>14.00</td>\n",
       "      <td>8700</td>\n",
       "      <td>89026198308</td>\n",
       "      <td>Юлия Юрьевна</td>\n",
       "      <td>None</td>\n",
       "      <td>6</td>\n",
       "    </tr>\n",
       "    <tr>\n",
       "      <th>3</th>\n",
       "      <td>http://citystar.ru/scard.asp?d=43&amp;id=15927071</td>\n",
       "      <td>02.09.2023 8:11:48</td>\n",
       "      <td>02.09.2023 8:11:48</td>\n",
       "      <td>id:26867. \\r\\nВНИМАНИЕ! ЭКСКЛЮЗИВНОЕ ПРЕДЛОЖЕН...</td>\n",
       "      <td>Многокомнатная</td>\n",
       "      <td>None</td>\n",
       "      <td>Калмыкова</td>\n",
       "      <td>14</td>\n",
       "      <td>8/9</td>\n",
       "      <td>None</td>\n",
       "      <td>65.00</td>\n",
       "      <td>45.00</td>\n",
       "      <td>8.00</td>\n",
       "      <td>4800</td>\n",
       "      <td>79193209269</td>\n",
       "      <td>Руслан Жаксалыков</td>\n",
       "      <td>ruslanjaksalykov.riolux@gmail.com</td>\n",
       "      <td>10</td>\n",
       "    </tr>\n",
       "    <tr>\n",
       "      <th>4</th>\n",
       "      <td>http://citystar.ru/scard.asp?d=43&amp;id=15927070</td>\n",
       "      <td>02.09.2023 8:11:47</td>\n",
       "      <td>02.09.2023 8:11:47</td>\n",
       "      <td>id:26185. \\r\\nП продаже отличная двухкомнатная...</td>\n",
       "      <td>Двухкомнатная</td>\n",
       "      <td>None</td>\n",
       "      <td>Суворова</td>\n",
       "      <td>136/1</td>\n",
       "      <td>2/5</td>\n",
       "      <td>None</td>\n",
       "      <td>44.30</td>\n",
       "      <td>30.00</td>\n",
       "      <td>6.00</td>\n",
       "      <td>2980</td>\n",
       "      <td>79026009666</td>\n",
       "      <td>Алия Тугузова</td>\n",
       "      <td>tuguzova.riolux@gmail.com</td>\n",
       "      <td>7</td>\n",
       "    </tr>\n",
       "  </tbody>\n",
       "</table>\n",
       "</div>"
      ],
      "text/plain": [
       "                                            link          Дата подачи  \\\n",
       "0  http://citystar.ru/scard.asp?d=43&id=15909831  30.08.2023 15:22:27   \n",
       "1  http://citystar.ru/scard.asp?d=43&id=15909830  30.08.2023 14:57:57   \n",
       "2  http://citystar.ru/scard.asp?d=43&id=15927949  02.09.2023 14:02:00   \n",
       "3  http://citystar.ru/scard.asp?d=43&id=15927071   02.09.2023 8:11:48   \n",
       "4  http://citystar.ru/scard.asp?d=43&id=15927070   02.09.2023 8:11:47   \n",
       "\n",
       "       Дата обновления                                         Примечание  \\\n",
       "0  02.09.2023 14:03:02  В продаже 4-х комнатная квартира. С хорошим ре...   \n",
       "1  02.09.2023 14:02:56  Продается 4-х комнатная квартира нестандартной...   \n",
       "2  02.09.2023 14:02:21  Продам 3-х комнатную квартиру\\r\\nпремиум-класс...   \n",
       "3   02.09.2023 8:11:48  id:26867. \\r\\nВНИМАНИЕ! ЭКСКЛЮЗИВНОЕ ПРЕДЛОЖЕН...   \n",
       "4   02.09.2023 8:11:47  id:26185. \\r\\nП продаже отличная двухкомнатная...   \n",
       "\n",
       "       Тип квартиры              Район        Адрес    Дом Этаж Планировка  \\\n",
       "0     Трехкомнатная  Орджоникидзевский        Труда     14  8/9       None   \n",
       "1  Четырехкомнатная  Орджоникидзевский        Труда     18  9/9       None   \n",
       "2     Трехкомнатная  Орджоникидзевский  Ленина пр-т  129/2  6/9       None   \n",
       "3    Многокомнатная               None    Калмыкова     14  8/9       None   \n",
       "4     Двухкомнатная               None     Суворова  136/1  2/5       None   \n",
       "\n",
       "        о      ж      к цена (т.р.)          Телефон                Имя  \\\n",
       "0   80.00  53.00   9.00        5999  8-902-619-83-08       Юлия Юрьевна   \n",
       "1   79.00  52.70   8.20        6350  8-902-619-83-08       Юлия Юрьевна   \n",
       "2  105.00  78.00  14.00        8700      89026198308       Юлия Юрьевна   \n",
       "3   65.00  45.00   8.00        4800      79193209269  Руслан Жаксалыков   \n",
       "4   44.30  30.00   6.00        2980      79026009666      Алия Тугузова   \n",
       "\n",
       "                              E-mail Просмотров:  \n",
       "0                               None          40  \n",
       "1                               None          27  \n",
       "2                               None           6  \n",
       "3  ruslanjaksalykov.riolux@gmail.com          10  \n",
       "4          tuguzova.riolux@gmail.com           7  "
      ]
     },
     "execution_count": 6,
     "metadata": {},
     "output_type": "execute_result"
    }
   ],
   "source": [
    "df.head()"
   ]
  },
  {
   "cell_type": "markdown",
   "id": "b076e0f8-9851-4123-97bc-e801661fd2f0",
   "metadata": {},
   "source": [
    "# Dataset preprocessing"
   ]
  },
  {
   "cell_type": "code",
   "execution_count": 7,
   "id": "d5fc83a8-3de1-4b36-b916-73045aa309cf",
   "metadata": {},
   "outputs": [],
   "source": [
    "# Set housing ID as an index\n",
    "df['id'] = df['link'].str.split('=', regex=False, expand=True)[2].astype(int)\n",
    "df.set_index('id', inplace=True, verify_integrity=True)\n",
    "\n",
    "# Expand 'Этаж' column\n",
    "df[['Этаж', 'Этажей']] = df['Этаж'].str.split('/', regex=False, expand=True).astype(int)\n",
    "\n",
    "# Cast column types\n",
    "df['цена (т.р.)'] = df['цена (т.р.)'].astype(int)\n",
    "df[['о', 'ж', 'к']] = df[['о', 'ж', 'к']].astype(float)\n",
    "\n",
    "# Drop useless columns\n",
    "columns = ['link', 'Дата подачи', 'Дата обновления', 'Примечание', 'Дом', 'Телефон', 'Имя', 'E-mail', 'Просмотров:']\n",
    "df.drop(columns=columns, inplace=True)\n",
    "\n",
    "# Rename column\n",
    "df.rename(columns={'цена (т.р.)': TARGET}, inplace=True)\n",
    "df.rename(columns={'Адрес': 'Улица'}, inplace=True)\n",
    "\n",
    "# Drop rows without 'Тип квартиры'\n",
    "nan_indices = df.loc[df['Тип квартиры'].isna()].index\n",
    "df.drop(nan_indices, inplace=True)\n",
    "\n",
    "# Drop rows where 'Цена' equals to zero\n",
    "zero_price_indices = df.loc[df[TARGET] == 0].index\n",
    "df.drop(zero_price_indices, inplace=True)\n",
    "\n",
    "# Change wrong values\n",
    "df.loc[df['Этаж'] == -1, 'Этаж'] = 1\n",
    "df.loc[df['Район'] == 'орджоникидзевский', 'Район'] = 'Орджоникидзевский'\n",
    "df.loc[df['Район'] == 'Ленинский (Левый берег)', 'Район'] = 'Ленинский'\n",
    "df.loc[df['Район'] == 'правобережный', 'Район'] = 'Правобережный'\n",
    "df.loc[df['Район'] == 'Правобережный район', 'Район'] = 'Правобережный'\n",
    "df.loc[df['Планировка'] == 'Улучшенная', 'Планировка'] = 'улучшенная'\n",
    "df['Улица'] = df['Улица'].str.lower()\n",
    "df['Улица'] = df['Улица'].str.replace('ул ', '', n=1, regex=False)\n",
    "df['Улица'] = df['Улица'].str.replace('ул.', '', n=1, regex=False)\n",
    "df['Улица'] = df['Улица'].str.replace(r'\\d+', '', regex=True)\n",
    "df['Улица'] = df['Улица'].str.replace(r'[.,/\"-]', '', regex=True)\n",
    "df['Улица'] = df['Улица'].str.replace('прт', '', n=1, regex=False)\n",
    "df['Улица'] = df['Улица'].str.replace('проспект', '', n=1, regex=False)\n",
    "df['Улица'] = df['Улица'].str.replace('им ', '', n=1, regex=False)\n",
    "df['Улица'] = df['Улица'].str.replace('имени ', '', n=1, regex=False)\n",
    "df['Улица'] = df['Улица'].str.replace(' к', '', n=1, regex=False)\n",
    "df['Улица'] = df['Улица'].str.strip()\n",
    "\n",
    "# Correct street names\n",
    "df.loc[df['Улица'] == 'ленина', 'Улица'] = 'Проспект Ленина'\n",
    "df.loc[df['Улица'] == 'карла маркса', 'Улица'] = 'Карла Маркса'\n",
    "df.loc[df['Улица'] == 'советская', 'Улица'] = 'Советская'\n",
    "df.loc[df['Улица'] == 'зеленый лог', 'Улица'] = 'Зеленый Лог'\n",
    "df.loc[df['Улица'] == 'труда', 'Улица'] = 'Труда'\n",
    "df.loc[df['Улица'] == 'летия магнитки', 'Улица'] = '50-летия Магнитки'\n",
    "df.loc[df['Улица'] == 'газеты правда', 'Улица'] = 'Газеты Правда'\n",
    "df.loc[df['Улица'] == 'урортная', 'Улица'] = 'Курортная'\n",
    "df.loc[df['Улица'] == 'грязнова', 'Улица'] = 'Грязнова'\n",
    "df.loc[df['Улица'] == 'суворова', 'Улица'] = 'Суворова'\n",
    "df.loc[df['Улица'] == 'московская', 'Улица'] = 'Московская'\n",
    "df.loc[df['Улица'] == 'уральская', 'Улица'] = 'Уральская'\n",
    "df.loc[df['Улица'] == 'коробова', 'Улица'] = 'Коробова'\n",
    "df.loc[df['Улица'] == 'металлургов', 'Улица'] = 'Металлургов'\n",
    "df.loc[df['Улица'] == 'октябрьская', 'Улица'] = 'Октябрьская'\n",
    "df.loc[df['Улица'] == 'тевосяна', 'Улица'] = 'Тевосяна'\n",
    "df.loc[df['Улица'] == 'ворошилова', 'Улица'] = 'Ворошилова'\n",
    "\n",
    "# Split dataframe on train and validation parts\n",
    "_, valid_idx = train_test_split(\n",
    "    range(len(df)),\n",
    "    test_size=VALIDATION_SIZE,\n",
    "    random_state=RANDOM_STATE,\n",
    "    stratify=df['Тип квартиры'],\n",
    ")\n",
    "df[TRAIN] = True\n",
    "df.loc[df.iloc[valid_idx].index, TRAIN] = False"
   ]
  },
  {
   "cell_type": "code",
   "execution_count": 8,
   "id": "f03c4587-a127-44e6-ac0b-6816f2f7708b",
   "metadata": {},
   "outputs": [
    {
     "data": {
      "text/html": [
       "<div>\n",
       "<style scoped>\n",
       "    .dataframe tbody tr th:only-of-type {\n",
       "        vertical-align: middle;\n",
       "    }\n",
       "\n",
       "    .dataframe tbody tr th {\n",
       "        vertical-align: top;\n",
       "    }\n",
       "\n",
       "    .dataframe thead th {\n",
       "        text-align: right;\n",
       "    }\n",
       "</style>\n",
       "<table border=\"1\" class=\"dataframe\">\n",
       "  <thead>\n",
       "    <tr style=\"text-align: right;\">\n",
       "      <th></th>\n",
       "      <th>Тип квартиры</th>\n",
       "      <th>Район</th>\n",
       "      <th>Улица</th>\n",
       "      <th>Этаж</th>\n",
       "      <th>Планировка</th>\n",
       "      <th>о</th>\n",
       "      <th>ж</th>\n",
       "      <th>к</th>\n",
       "      <th>Цена</th>\n",
       "      <th>Этажей</th>\n",
       "      <th>TRAIN</th>\n",
       "    </tr>\n",
       "    <tr>\n",
       "      <th>id</th>\n",
       "      <th></th>\n",
       "      <th></th>\n",
       "      <th></th>\n",
       "      <th></th>\n",
       "      <th></th>\n",
       "      <th></th>\n",
       "      <th></th>\n",
       "      <th></th>\n",
       "      <th></th>\n",
       "      <th></th>\n",
       "      <th></th>\n",
       "    </tr>\n",
       "  </thead>\n",
       "  <tbody>\n",
       "    <tr>\n",
       "      <th>15909831</th>\n",
       "      <td>Трехкомнатная</td>\n",
       "      <td>Орджоникидзевский</td>\n",
       "      <td>Труда</td>\n",
       "      <td>8</td>\n",
       "      <td>None</td>\n",
       "      <td>80.0</td>\n",
       "      <td>53.0</td>\n",
       "      <td>9.0</td>\n",
       "      <td>5999</td>\n",
       "      <td>9</td>\n",
       "      <td>True</td>\n",
       "    </tr>\n",
       "    <tr>\n",
       "      <th>15909830</th>\n",
       "      <td>Четырехкомнатная</td>\n",
       "      <td>Орджоникидзевский</td>\n",
       "      <td>Труда</td>\n",
       "      <td>9</td>\n",
       "      <td>None</td>\n",
       "      <td>79.0</td>\n",
       "      <td>52.7</td>\n",
       "      <td>8.2</td>\n",
       "      <td>6350</td>\n",
       "      <td>9</td>\n",
       "      <td>True</td>\n",
       "    </tr>\n",
       "    <tr>\n",
       "      <th>15927949</th>\n",
       "      <td>Трехкомнатная</td>\n",
       "      <td>Орджоникидзевский</td>\n",
       "      <td>Проспект Ленина</td>\n",
       "      <td>6</td>\n",
       "      <td>None</td>\n",
       "      <td>105.0</td>\n",
       "      <td>78.0</td>\n",
       "      <td>14.0</td>\n",
       "      <td>8700</td>\n",
       "      <td>9</td>\n",
       "      <td>True</td>\n",
       "    </tr>\n",
       "    <tr>\n",
       "      <th>15927071</th>\n",
       "      <td>Многокомнатная</td>\n",
       "      <td>None</td>\n",
       "      <td>калмыкова</td>\n",
       "      <td>8</td>\n",
       "      <td>None</td>\n",
       "      <td>65.0</td>\n",
       "      <td>45.0</td>\n",
       "      <td>8.0</td>\n",
       "      <td>4800</td>\n",
       "      <td>9</td>\n",
       "      <td>True</td>\n",
       "    </tr>\n",
       "    <tr>\n",
       "      <th>15927070</th>\n",
       "      <td>Двухкомнатная</td>\n",
       "      <td>None</td>\n",
       "      <td>Суворова</td>\n",
       "      <td>2</td>\n",
       "      <td>None</td>\n",
       "      <td>44.3</td>\n",
       "      <td>30.0</td>\n",
       "      <td>6.0</td>\n",
       "      <td>2980</td>\n",
       "      <td>5</td>\n",
       "      <td>True</td>\n",
       "    </tr>\n",
       "  </tbody>\n",
       "</table>\n",
       "</div>"
      ],
      "text/plain": [
       "              Тип квартиры              Район            Улица  Этаж  \\\n",
       "id                                                                     \n",
       "15909831     Трехкомнатная  Орджоникидзевский            Труда     8   \n",
       "15909830  Четырехкомнатная  Орджоникидзевский            Труда     9   \n",
       "15927949     Трехкомнатная  Орджоникидзевский  Проспект Ленина     6   \n",
       "15927071    Многокомнатная               None        калмыкова     8   \n",
       "15927070     Двухкомнатная               None         Суворова     2   \n",
       "\n",
       "         Планировка      о     ж     к  Цена  Этажей  TRAIN  \n",
       "id                                                           \n",
       "15909831       None   80.0  53.0   9.0  5999       9   True  \n",
       "15909830       None   79.0  52.7   8.2  6350       9   True  \n",
       "15927949       None  105.0  78.0  14.0  8700       9   True  \n",
       "15927071       None   65.0  45.0   8.0  4800       9   True  \n",
       "15927070       None   44.3  30.0   6.0  2980       5   True  "
      ]
     },
     "execution_count": 8,
     "metadata": {},
     "output_type": "execute_result"
    }
   ],
   "source": [
    "df.head()"
   ]
  },
  {
   "cell_type": "markdown",
   "id": "fd776680-eb04-49fb-8498-9aea08cdb304",
   "metadata": {},
   "source": [
    "**Comments**\n",
    "___\n",
    "Make a deep copy of the dataframe to use it with linear ML methods. Trees based methods are not sensitive to outliers, scale, linear dependense and some of theese can work with missing values."
   ]
  },
  {
   "cell_type": "code",
   "execution_count": 9,
   "id": "aedb81f5-8b7e-47d3-bc19-ceca99931065",
   "metadata": {},
   "outputs": [],
   "source": [
    "# Make a deep copy of the dataframe to use it with linear ML methods\n",
    "df_linear_ml = df.copy()"
   ]
  },
  {
   "cell_type": "markdown",
   "id": "b7d494b9-f33e-4562-aa05-dba509d93c5b",
   "metadata": {},
   "source": [
    "# Exploratory data analysis\n",
    "## General info\n",
    "### Dataframe info"
   ]
  },
  {
   "cell_type": "code",
   "execution_count": 10,
   "id": "a171d2a2-8f44-477d-8c26-1da472f1b9fd",
   "metadata": {},
   "outputs": [
    {
     "name": "stdout",
     "output_type": "stream",
     "text": [
      "<class 'pandas.core.frame.DataFrame'>\n",
      "Index: 456 entries, 15909831 to 12926993\n",
      "Data columns (total 11 columns):\n",
      " #   Column        Non-Null Count  Dtype  \n",
      "---  ------        --------------  -----  \n",
      " 0   Тип квартиры  456 non-null    object \n",
      " 1   Район         286 non-null    object \n",
      " 2   Улица         452 non-null    object \n",
      " 3   Этаж          456 non-null    int64  \n",
      " 4   Планировка    123 non-null    object \n",
      " 5   о             456 non-null    float64\n",
      " 6   ж             456 non-null    float64\n",
      " 7   к             456 non-null    float64\n",
      " 8   Цена          456 non-null    int64  \n",
      " 9   Этажей        456 non-null    int64  \n",
      " 10  TRAIN         456 non-null    bool   \n",
      "dtypes: bool(1), float64(3), int64(3), object(4)\n",
      "memory usage: 55.8+ KB\n"
     ]
    }
   ],
   "source": [
    "df.info()"
   ]
  },
  {
   "cell_type": "code",
   "execution_count": 11,
   "id": "bc796f9e-79f5-438b-8821-a4ee9a2b775d",
   "metadata": {},
   "outputs": [
    {
     "name": "stdout",
     "output_type": "stream",
     "text": [
      "Number of unique ids: 456\n"
     ]
    }
   ],
   "source": [
    "print('Number of unique ids:', df.index.nunique())"
   ]
  },
  {
   "cell_type": "code",
   "execution_count": 12,
   "id": "cfbb91d0-0f93-4727-a89d-038075907204",
   "metadata": {},
   "outputs": [
    {
     "name": "stdout",
     "output_type": "stream",
     "text": [
      "Number of training objects:   364\n",
      "Number of validation objects: 92\n"
     ]
    }
   ],
   "source": [
    "print('Number of training objects:  ', len(df.loc[df[TRAIN]]))\n",
    "print('Number of validation objects:', len(df.loc[~df[TRAIN]]))"
   ]
  },
  {
   "cell_type": "markdown",
   "id": "441a7cf3-94c9-4078-ba8f-50cc7fc8a728",
   "metadata": {},
   "source": [
    "### Value counts"
   ]
  },
  {
   "cell_type": "code",
   "execution_count": 13,
   "id": "4ca3975a-5a65-4a91-881e-4c1c0122e34a",
   "metadata": {},
   "outputs": [
    {
     "name": "stdout",
     "output_type": "stream",
     "text": [
      "Тип квартиры\n",
      "Двухкомнатная       173\n",
      "Трехкомнатная       142\n",
      "Однокомнатная       113\n",
      "Четырехкомнатная     21\n",
      "Многокомнатная        7\n",
      "Name: count, dtype: int64\n",
      "\n",
      "Район\n",
      "Орджоникидзевский                  113\n",
      "Ленинский                           86\n",
      "Правобережный                       75\n",
      "Орджоникидзевский (левый берег)     12\n",
      "Name: count, dtype: int64\n",
      "\n",
      "Улица\n",
      "Проспект Ленина    67\n",
      "Карла Маркса       55\n",
      "Советская          19\n",
      "Зеленый Лог        19\n",
      "Труда              16\n",
      "                   ..\n",
      "корсикова           1\n",
      "уйбышева            1\n",
      "тургенева           1\n",
      "достоевского        1\n",
      "дружбы              1\n",
      "Name: count, Length: 99, dtype: int64\n",
      "\n",
      "Планировка\n",
      "улучшенная              24\n",
      "брежневка               22\n",
      "нестандартная           20\n",
      "старой планировки       17\n",
      "раздельная              11\n",
      "хрущевка                 7\n",
      "сталинский вариант       5\n",
      "свердловский вариант     4\n",
      "ленинградский проект     3\n",
      "малосемейка              3\n",
      "гребенка                 3\n",
      "полусмежная              1\n",
      "полустудия               1\n",
      "распашонка               1\n",
      "студия                   1\n",
      "Name: count, dtype: int64\n",
      "\n"
     ]
    }
   ],
   "source": [
    "categ_columns = ['Тип квартиры', 'Район', 'Улица', 'Планировка']\n",
    "\n",
    "for column in categ_columns:\n",
    "    print(df[column].value_counts())\n",
    "    print()"
   ]
  },
  {
   "cell_type": "code",
   "execution_count": 14,
   "id": "0f5d78d6-74d5-4288-a116-57dd309dd627",
   "metadata": {},
   "outputs": [
    {
     "data": {
      "text/plain": [
       "Этаж\n",
       "1     112\n",
       "2      95\n",
       "5      75\n",
       "3      57\n",
       "4      39\n",
       "7      26\n",
       "9      17\n",
       "6      17\n",
       "8       8\n",
       "13      3\n",
       "10      3\n",
       "14      2\n",
       "11      2\n",
       "Name: count, dtype: int64"
      ]
     },
     "execution_count": 14,
     "metadata": {},
     "output_type": "execute_result"
    }
   ],
   "source": [
    "df['Этаж'].value_counts()"
   ]
  },
  {
   "cell_type": "code",
   "execution_count": 15,
   "id": "b260dd45-7ee8-4619-b4d6-205cf18d5721",
   "metadata": {},
   "outputs": [
    {
     "data": {
      "text/plain": [
       "Этажей\n",
       "5     145\n",
       "9      84\n",
       "3      53\n",
       "10     42\n",
       "4      39\n",
       "2      38\n",
       "1      23\n",
       "14     14\n",
       "16      9\n",
       "12      3\n",
       "8       2\n",
       "13      1\n",
       "6       1\n",
       "17      1\n",
       "7       1\n",
       "Name: count, dtype: int64"
      ]
     },
     "execution_count": 15,
     "metadata": {},
     "output_type": "execute_result"
    }
   ],
   "source": [
    "df['Этажей'].value_counts()"
   ]
  },
  {
   "cell_type": "markdown",
   "id": "5017042d-b8d4-475a-83e0-3a9442fbc131",
   "metadata": {},
   "source": [
    "## Correlation analysis\n",
    "### Correlation matrix"
   ]
  },
  {
   "cell_type": "code",
   "execution_count": 16,
   "id": "b1dfc3df-77c8-40be-ba81-1abaf7a8849a",
   "metadata": {},
   "outputs": [
    {
     "data": {
      "image/png": "[encoded data removed]",
      "text/plain": [
       "<Figure size 1600x800 with 2 Axes>"
      ]
     },
     "metadata": {},
     "output_type": "display_data"
    }
   ],
   "source": [
    "# Compute correlation table\n",
    "corr = df.drop(columns=categ_columns + [TRAIN]).corr()\n",
    "\n",
    "# Generate a mask for the upper triangle\n",
    "mask = np.triu(np.ones_like(corr, dtype=bool))\n",
    "\n",
    "# Set up the matplotlib figure\n",
    "plt.subplots(figsize=(16, 8))\n",
    "\n",
    "# Draw the heatmap with the mask and correct aspect ratio\n",
    "sns.heatmap(corr, mask=mask, vmin=-1, vmax=1, cmap=\"RdBu\");"
   ]
  },
  {
   "cell_type": "markdown",
   "id": "903941f8-b61d-4eaf-aa9a-8046c7b3c281",
   "metadata": {},
   "source": [
    "### Correlation with target"
   ]
  },
  {
   "cell_type": "code",
   "execution_count": 17,
   "id": "8019e6e2-531e-4e36-9d56-07a72e2643a9",
   "metadata": {},
   "outputs": [
    {
     "data": {
      "text/plain": [
       "Цена      1.000000\n",
       "о         0.559677\n",
       "ж         0.510923\n",
       "к         0.406383\n",
       "Этажей    0.284088\n",
       "Этаж      0.168814\n",
       "Name: Цена, dtype: float64"
      ]
     },
     "execution_count": 17,
     "metadata": {},
     "output_type": "execute_result"
    }
   ],
   "source": [
    "# Sort absolute correlation values with target variable\n",
    "corr[TARGET].abs().sort_values(ascending=False)"
   ]
  },
  {
   "cell_type": "code",
   "execution_count": 18,
   "id": "2661874d-4f05-4fd6-9781-c1ebc53fb4d2",
   "metadata": {},
   "outputs": [
    {
     "data": {
      "image/png": "[encoded data removed]",
      "text/plain": [
       "<Figure size 750x750 with 12 Axes>"
      ]
     },
     "metadata": {},
     "output_type": "display_data"
    }
   ],
   "source": [
    "with warnings.catch_warnings():\n",
    "    warnings.simplefilter('ignore')\n",
    "    sns.pairplot(df[['о', 'Этажей', TARGET]]);"
   ]
  },
  {
   "cell_type": "markdown",
   "id": "3f6dc2f0-118c-4c36-8835-83d1d2f5763a",
   "metadata": {},
   "source": [
    "### Searching for strong correlations"
   ]
  },
  {
   "cell_type": "code",
   "execution_count": 19,
   "id": "29b46d66-1361-44b1-983c-530344f229d4",
   "metadata": {},
   "outputs": [
    {
     "data": {
      "text/html": [
       "<div>\n",
       "<style scoped>\n",
       "    .dataframe tbody tr th:only-of-type {\n",
       "        vertical-align: middle;\n",
       "    }\n",
       "\n",
       "    .dataframe tbody tr th {\n",
       "        vertical-align: top;\n",
       "    }\n",
       "\n",
       "    .dataframe thead th {\n",
       "        text-align: right;\n",
       "    }\n",
       "</style>\n",
       "<table border=\"1\" class=\"dataframe\">\n",
       "  <thead>\n",
       "    <tr style=\"text-align: right;\">\n",
       "      <th></th>\n",
       "    </tr>\n",
       "  </thead>\n",
       "  <tbody>\n",
       "  </tbody>\n",
       "</table>\n",
       "</div>"
      ],
      "text/plain": [
       "Empty DataFrame\n",
       "Columns: []\n",
       "Index: []"
      ]
     },
     "execution_count": 19,
     "metadata": {},
     "output_type": "execute_result"
    }
   ],
   "source": [
    "# Correlation threshold\n",
    "corr_threshold = 0.90\n",
    "\n",
    "# Triangle mask\n",
    "triangle_mask = np.triu(np.ones_like(corr, dtype=bool))\n",
    "\n",
    "# Mask correlations below threshold value\n",
    "corr_mask = corr.mask(triangle_mask).where(corr.abs() > corr_threshold)\n",
    "\n",
    "# Show onle strong correlations\n",
    "strong_corr = corr_mask.dropna(axis=0, how='all').dropna(axis=1, how='all')\n",
    "strong_corr"
   ]
  },
  {
   "cell_type": "markdown",
   "id": "5fd092ea-e584-4ea1-85be-1f4a4967e057",
   "metadata": {},
   "source": [
    "**Comments**\n",
    "___\n",
    "There is no strong correlation values that can interfere with calculations by linear models."
   ]
  },
  {
   "cell_type": "markdown",
   "id": "b4dc88d2-471a-451e-a620-689e297ebbe0",
   "metadata": {},
   "source": [
    "## Missing values\n",
    "### Showing of missing values"
   ]
  },
  {
   "cell_type": "code",
   "execution_count": 20,
   "id": "2c893a21-56ff-42da-bf18-da87a86570c9",
   "metadata": {},
   "outputs": [
    {
     "data": {
      "image/png": "[encoded data removed]",
      "text/plain": [
       "<Figure size 2500x1000 with 2 Axes>"
      ]
     },
     "metadata": {},
     "output_type": "display_data"
    }
   ],
   "source": [
    "missingno.matrix(df);"
   ]
  },
  {
   "cell_type": "code",
   "execution_count": 21,
   "id": "c8f58e9f-b6ba-4468-a09b-c1143bda5045",
   "metadata": {},
   "outputs": [
    {
     "data": {
      "image/png": "[encoded data removed]",
      "text/plain": [
       "<Figure size 2500x1000 with 3 Axes>"
      ]
     },
     "metadata": {},
     "output_type": "display_data"
    }
   ],
   "source": [
    "missingno.bar(df, filter='bottom', n=3);"
   ]
  },
  {
   "cell_type": "markdown",
   "id": "f8a0697d-cf1e-4fb9-8993-e95c94ad9dd3",
   "metadata": {},
   "source": [
    "## Outliers\n",
    "### Showing of boxplots"
   ]
  },
  {
   "cell_type": "code",
   "execution_count": 22,
   "id": "d1b08a19-e507-4843-b86f-a22122dde541",
   "metadata": {},
   "outputs": [
    {
     "data": {
      "image/png": "[encoded data removed]",
      "text/plain": [
       "<Figure size 1200x800 with 6 Axes>"
      ]
     },
     "metadata": {},
     "output_type": "display_data"
    }
   ],
   "source": [
    "# Define columns to plot\n",
    "plot_columns = set(df.columns.to_list()) - set(categ_columns + [TRAIN])\n",
    "\n",
    "# Create figure with [rows x cols] graphs\n",
    "cols = 3\n",
    "rows = math.ceil((len(plot_columns)) / cols)\n",
    "fig, axs = plt.subplots(rows, cols, figsize=(12, rows*4))\n",
    "\n",
    "# Plot graphs\n",
    "for i, column in enumerate(plot_columns):\n",
    "    if rows == 1:\n",
    "        idx = i%cols\n",
    "    else:\n",
    "        idx = (i//cols, i%cols)\n",
    "    axs[idx].boxplot(df_linear_ml.loc[df_linear_ml[column].notna(), column], showmeans=True)\n",
    "    axs[idx].set_title(column)"
   ]
  },
  {
   "cell_type": "code",
   "execution_count": 23,
   "id": "c244808c-9449-46a3-b139-09a7c2ef70ba",
   "metadata": {},
   "outputs": [
    {
     "name": "stdout",
     "output_type": "stream",
     "text": [
      "Number of outliers per column:\n"
     ]
    },
    {
     "data": {
      "text/plain": [
       "к         19\n",
       "о         18\n",
       "Цена      11\n",
       "Этаж      10\n",
       "ж          5\n",
       "Этажей     1\n",
       "dtype: int64"
      ]
     },
     "execution_count": 23,
     "metadata": {},
     "output_type": "execute_result"
    }
   ],
   "source": [
    "outliers = {}\n",
    "outliers_num = {}\n",
    "for column in plot_columns:\n",
    "    # Calculate Q1, Q3, IQR\n",
    "    Q1 = df_linear_ml[column].quantile(0.25)\n",
    "    Q3 = df_linear_ml[column].quantile(0.75)\n",
    "    IQR = Q3 - Q1\n",
    "\n",
    "    # Calculate indices of rows\n",
    "    outliers[column] = list(df_linear_ml.loc[(~df_linear_ml[column].between(Q1 - 1.5*IQR, Q3 + 1.5*IQR))\n",
    "                            & (df_linear_ml[column].notna()), column].index)\n",
    "    outliers_num[column] = len(outliers[column])\n",
    "\n",
    "print('Number of outliers per column:')\n",
    "pd.Series(outliers_num).sort_values(ascending=False)"
   ]
  },
  {
   "cell_type": "markdown",
   "id": "c8785ec7-8f7c-43ee-97b7-1ef95c1d3d34",
   "metadata": {},
   "source": [
    "# Categorical encoding"
   ]
  },
  {
   "cell_type": "code",
   "execution_count": 24,
   "id": "0ac2b24f-42e7-426e-b8a1-16e72383a7a0",
   "metadata": {},
   "outputs": [],
   "source": [
    "encoder = OneHotEncoder(sparse_output=False, min_frequency=7, handle_unknown='infrequent_if_exist')\n",
    "encoded_train = pd.DataFrame(encoder.fit_transform(df.loc[df[TRAIN], categ_columns]), df.loc[df[TRAIN]].index, encoder.get_feature_names_out())\n",
    "encoded_valid = pd.DataFrame(encoder.transform(df.loc[~df[TRAIN], categ_columns]), df.loc[~df[TRAIN]].index, encoder.get_feature_names_out())\n",
    "encoded = pd.concat([encoded_train, encoded_valid])\n",
    "df_encoded = pd.concat([df, encoded], axis=1).drop(columns=categ_columns)"
   ]
  },
  {
   "cell_type": "markdown",
   "id": "ea924c1e-096d-4653-b513-3fe9a0a43335",
   "metadata": {},
   "source": [
    "# Data splitting"
   ]
  },
  {
   "cell_type": "code",
   "execution_count": 25,
   "id": "77fbfc68-a826-4771-b0e2-a0f2937a7443",
   "metadata": {},
   "outputs": [
    {
     "name": "stdout",
     "output_type": "stream",
     "text": [
      "Data shapes:         (456, 9) (364, 9) (92, 9) (456,) (364,) (92,)\n",
      "Encoded data shapes: (456, 37) (364, 37) (92, 37) (456,) (364,) (92,)\n"
     ]
    }
   ],
   "source": [
    "# Split data\n",
    "x = df.drop(columns=[TRAIN, TARGET])\n",
    "y = df[TARGET]\n",
    "x_train = df.loc[df[TRAIN], :].drop(columns=[TRAIN, TARGET])\n",
    "x_valid = df.loc[~df[TRAIN], :].drop(columns=[TRAIN, TARGET])\n",
    "y_train = df.loc[df[TRAIN], TARGET]\n",
    "y_valid = df.loc[~df[TRAIN], TARGET]\n",
    "\n",
    "# Split encoded data\n",
    "x_encoded = df_encoded.drop(columns=[TRAIN, TARGET])\n",
    "y_encoded = df_encoded[TARGET]\n",
    "x_train_encoded = df_encoded.loc[df_encoded[TRAIN], :].drop(columns=[TRAIN, TARGET])\n",
    "x_valid_encoded = df_encoded.loc[~df_encoded[TRAIN], :].drop(columns=[TRAIN, TARGET])\n",
    "y_train_encoded = df_encoded.loc[df_encoded[TRAIN], TARGET]\n",
    "y_valid_encoded = df_encoded.loc[~df_encoded[TRAIN], TARGET]\n",
    "\n",
    "# Print data shape\n",
    "print('Data shapes:        ', x.shape, x_train.shape, x_valid.shape, y.shape, y_train.shape, y_valid.shape)\n",
    "print('Encoded data shapes:', x_encoded.shape, x_train_encoded.shape, x_valid_encoded.shape, y_encoded.shape,\n",
    "      y_train_encoded.shape, y_valid_encoded.shape)"
   ]
  },
  {
   "cell_type": "markdown",
   "id": "b2c4ff8f-bf79-4d17-8b7c-bb2d0ecccdea",
   "metadata": {},
   "source": [
    "# Dummy Regressor"
   ]
  },
  {
   "cell_type": "code",
   "execution_count": 26,
   "id": "8dbbe0bf-f08e-4553-9f75-dc79e23e553f",
   "metadata": {},
   "outputs": [],
   "source": [
    "def evaluate(model, x_train, y_train, x_valid, y_valid):\n",
    "    pred_train = model.predict(x_train)\n",
    "    pred_valid = model.predict(x_valid)\n",
    "    \n",
    "    mae_train = mean_absolute_error(y_train, pred_train)\n",
    "    mae_valid = mean_absolute_error(y_valid, pred_valid)\n",
    "    \n",
    "    rmse_train = math.sqrt(mean_squared_error(y_train, pred_train))\n",
    "    rmse_valid = math.sqrt(mean_squared_error(y_valid, pred_valid))\n",
    "\n",
    "    mape_train = mean_absolute_percentage_error(y_train, pred_train)\n",
    "    mape_valid = mean_absolute_percentage_error(y_valid, pred_valid)\n",
    "    \n",
    "    print(f'Training MAE:    {int(mae_train)} т.р.')\n",
    "    print(f'Validation MAE:  {int(mae_valid)} т.р.')\n",
    "    print()\n",
    "    print(f'Training RMSE:   {int(rmse_train)} т.р.')\n",
    "    print(f'Validation RMSE: {int(rmse_valid)} т.р.')\n",
    "    print()\n",
    "    print(f'Training MAPE:   {(mape_train*100):.2f} %')\n",
    "    print(f'Validation MAPE: {(mape_valid*100):.2f} %')\n",
    "    \n",
    "    return mae_train, mae_valid, rmse_train, rmse_valid, mape_train, mape_valid"
   ]
  },
  {
   "cell_type": "code",
   "execution_count": 27,
   "id": "110b1341-f743-4f0e-bce4-d8cd529056c9",
   "metadata": {},
   "outputs": [
    {
     "name": "stdout",
     "output_type": "stream",
     "text": [
      "Training MAE:    1185 т.р.\n",
      "Validation MAE:  1186 т.р.\n",
      "\n",
      "Training RMSE:   1598 т.р.\n",
      "Validation RMSE: 1513 т.р.\n",
      "\n",
      "Training MAPE:   50.46 %\n",
      "Validation MAPE: 42.88 %\n"
     ]
    }
   ],
   "source": [
    "# Define model\n",
    "model = DummyRegressor()\n",
    "\n",
    "# Train model\n",
    "model.fit(x_train, y_train)\n",
    "\n",
    "# Evaluate model\n",
    "evaluate(model, x_train, y_train, x_valid, y_valid);"
   ]
  },
  {
   "cell_type": "markdown",
   "id": "d52d7544-b9b7-4adf-ba6e-821009bded92",
   "metadata": {},
   "source": [
    "# Decision Tree Regressor\n",
    "## Fit"
   ]
  },
  {
   "cell_type": "code",
   "execution_count": 28,
   "id": "9aa91df4-82ef-4f48-9925-8f8eb16eb399",
   "metadata": {},
   "outputs": [
    {
     "name": "stdout",
     "output_type": "stream",
     "text": [
      "CPU times: user 3.27 ms, sys: 1.25 ms, total: 4.52 ms\n",
      "Wall time: 4.31 ms\n"
     ]
    }
   ],
   "source": [
    "%%time\n",
    "model_file = MODELS_PATH + 'decision_tree.pickle'\n",
    "\n",
    "# Check if the model is already exists\n",
    "if os.path.isfile(model_file):\n",
    "    # Load model\n",
    "    with open(model_file, 'rb') as f:\n",
    "        model = pickle.load(f)\n",
    "else:\n",
    "    # Train model\n",
    "    model = DecisionTreeRegressor(random_state=RANDOM_STATE)\n",
    "    model.fit(x_train_encoded, y_train_encoded)\n",
    "\n",
    "    # Save model\n",
    "    with open(model_file, 'wb') as f:\n",
    "        pickle.dump(model, f, pickle.HIGHEST_PROTOCOL)"
   ]
  },
  {
   "cell_type": "markdown",
   "id": "21904124-dcc6-4a65-b7a6-93993c51a210",
   "metadata": {},
   "source": [
    "## Evaluate"
   ]
  },
  {
   "cell_type": "code",
   "execution_count": 29,
   "id": "5cdadb15-61ca-48bd-8bc5-39d364b223a4",
   "metadata": {},
   "outputs": [
    {
     "name": "stdout",
     "output_type": "stream",
     "text": [
      "Training MAE:    0 т.р.\n",
      "Validation MAE:  800 т.р.\n",
      "\n",
      "Training RMSE:   5 т.р.\n",
      "Validation RMSE: 1202 т.р.\n",
      "\n",
      "Training MAPE:   0.02 %\n",
      "Validation MAPE: 22.78 %\n"
     ]
    }
   ],
   "source": [
    "evaluate(model, x_train_encoded, y_train_encoded, x_valid_encoded, y_valid_encoded);"
   ]
  },
  {
   "cell_type": "markdown",
   "id": "55b084bc-f0ef-422b-9be0-4267e1c10d2f",
   "metadata": {},
   "source": [
    "**Comments**\n",
    "___\n",
    "The model has overfitted. Searching for hyperparameter is needed."
   ]
  },
  {
   "cell_type": "markdown",
   "id": "f1a7353c-4dbb-4e67-80c4-b408804404ff",
   "metadata": {},
   "source": [
    "# Random Forest Regressor\n",
    "## Fit"
   ]
  },
  {
   "cell_type": "code",
   "execution_count": 30,
   "id": "eb3212a0-d8fa-4e17-940f-20e1604ea28a",
   "metadata": {},
   "outputs": [
    {
     "name": "stdout",
     "output_type": "stream",
     "text": [
      "CPU times: user 86.6 ms, sys: 39.9 ms, total: 126 ms\n",
      "Wall time: 78.2 ms\n"
     ]
    }
   ],
   "source": [
    "%%time\n",
    "model_file = MODELS_PATH + 'random_forest.pickle'\n",
    "\n",
    "# Check if the model is already exists\n",
    "if os.path.isfile(model_file):\n",
    "    # Load model\n",
    "    with open(model_file, 'rb') as f:\n",
    "        model = pickle.load(f)\n",
    "else:\n",
    "    # Train model\n",
    "    model = RandomForestRegressor(n_estimators=100, max_features=0.3,\n",
    "                                  n_jobs=-1, random_state=RANDOM_STATE)\n",
    "    model.fit(x_train_encoded, y_train_encoded)\n",
    "\n",
    "    # Save model\n",
    "    with open(model_file, 'wb') as f:\n",
    "        pickle.dump(model, f, pickle.HIGHEST_PROTOCOL)"
   ]
  },
  {
   "cell_type": "markdown",
   "id": "a10c5346-618a-451d-ae7f-385a6143f1e8",
   "metadata": {},
   "source": [
    "## Evaluate"
   ]
  },
  {
   "cell_type": "code",
   "execution_count": 31,
   "id": "6b613db8-4750-4647-b386-6af85e0c7f9d",
   "metadata": {},
   "outputs": [
    {
     "name": "stdout",
     "output_type": "stream",
     "text": [
      "Training MAE:    233 т.р.\n",
      "Validation MAE:  522 т.р.\n",
      "\n",
      "Training RMSE:   360 т.р.\n",
      "Validation RMSE: 746 т.р.\n",
      "\n",
      "Training MAPE:   9.31 %\n",
      "Validation MAPE: 17.51 %\n"
     ]
    }
   ],
   "source": [
    "evaluate(model, x_train_encoded, y_train_encoded, x_valid_encoded, y_valid_encoded);"
   ]
  },
  {
   "cell_type": "markdown",
   "id": "2e5eaa60-4fbf-4a17-ba13-ae421461b5c2",
   "metadata": {},
   "source": [
    "# Gradient Boosting Regressor\n",
    "## Fit"
   ]
  },
  {
   "cell_type": "code",
   "execution_count": 32,
   "id": "a1c31cd9-30c6-4b2d-a8c6-99355d28d992",
   "metadata": {},
   "outputs": [
    {
     "name": "stdout",
     "output_type": "stream",
     "text": [
      "CPU times: user 45.3 ms, sys: 2.42 ms, total: 47.7 ms\n",
      "Wall time: 47.1 ms\n"
     ]
    }
   ],
   "source": [
    "%%time\n",
    "model_file = MODELS_PATH + 'gradient_boosting.pickle'\n",
    "\n",
    "# Check if the model is already exists\n",
    "if os.path.isfile(model_file):\n",
    "    # Load model\n",
    "    with open(model_file, 'rb') as f:\n",
    "        model = pickle.load(f)\n",
    "else:\n",
    "    # Train model\n",
    "    model = GradientBoostingRegressor(learning_rate=0.1, n_estimators=100, random_state=RANDOM_STATE)\n",
    "    model.fit(x_train_encoded, y_train_encoded)\n",
    "\n",
    "    # Save model\n",
    "    with open(model_file, 'wb') as f:\n",
    "        pickle.dump(model, f, pickle.HIGHEST_PROTOCOL)"
   ]
  },
  {
   "cell_type": "markdown",
   "id": "36aad5d6-6a07-429d-a171-da00bbc48a90",
   "metadata": {},
   "source": [
    "## Evaluate"
   ]
  },
  {
   "cell_type": "code",
   "execution_count": 33,
   "id": "c313db52-2d12-4bc2-8f14-e555faa41feb",
   "metadata": {},
   "outputs": [
    {
     "name": "stdout",
     "output_type": "stream",
     "text": [
      "Training MAE:    344 т.р.\n",
      "Validation MAE:  542 т.р.\n",
      "\n",
      "Training RMSE:   478 т.р.\n",
      "Validation RMSE: 796 т.р.\n",
      "\n",
      "Training MAPE:   14.89 %\n",
      "Validation MAPE: 19.14 %\n"
     ]
    }
   ],
   "source": [
    "evaluate(model, x_train_encoded, y_train_encoded, x_valid_encoded, y_valid_encoded);"
   ]
  },
  {
   "cell_type": "markdown",
   "id": "998259b4-aff9-4f84-b3b4-a2e5d6d9f775",
   "metadata": {},
   "source": [
    "# CatBoost Regressor\n",
    "## Fit"
   ]
  },
  {
   "cell_type": "code",
   "execution_count": 34,
   "id": "939a747d-97b6-45a9-8436-219f069241a4",
   "metadata": {},
   "outputs": [
    {
     "data": {
      "application/vnd.jupyter.widget-view+json": {
       "model_id": "943152a13aaa408da04ec9e1126cb986",
       "version_major": 2,
       "version_minor": 0
      },
      "text/plain": [
       "MetricVisualizer(layout=Layout(align_self='stretch', height='500px'))"
      ]
     },
     "metadata": {},
     "output_type": "display_data"
    },
    {
     "name": "stdout",
     "output_type": "stream",
     "text": [
      "0:\tlearn: 1591.0361313\ttest: 1504.2816829\tbest: 1504.2816829 (0)\ttotal: 58.7ms\tremaining: 9m 47s\n",
      "250:\tlearn: 868.5321981\ttest: 791.2934387\tbest: 791.2934387 (250)\ttotal: 281ms\tremaining: 10.9s\n",
      "500:\tlearn: 713.2627632\ttest: 728.1120196\tbest: 728.1120196 (500)\ttotal: 476ms\tremaining: 9.03s\n",
      "750:\tlearn: 622.1055981\ttest: 721.0766910\tbest: 720.6158127 (703)\ttotal: 679ms\tremaining: 8.36s\n",
      "1000:\tlearn: 554.9784619\ttest: 722.4797734\tbest: 720.6158127 (703)\ttotal: 892ms\tremaining: 8.02s\n",
      "1250:\tlearn: 505.9622447\ttest: 719.1390886\tbest: 719.0591480 (1228)\ttotal: 1.11s\tremaining: 7.75s\n",
      "1500:\tlearn: 460.7617218\ttest: 720.2412575\tbest: 718.6883700 (1258)\ttotal: 1.29s\tremaining: 7.32s\n",
      "1750:\tlearn: 418.9604041\ttest: 718.1414239\tbest: 717.9708152 (1746)\ttotal: 1.48s\tremaining: 6.98s\n",
      "2000:\tlearn: 383.5678132\ttest: 715.3842259\tbest: 715.0841730 (1983)\ttotal: 1.7s\tremaining: 6.8s\n",
      "2250:\tlearn: 349.9572158\ttest: 713.1429218\tbest: 713.0774303 (2228)\ttotal: 1.92s\tremaining: 6.59s\n",
      "2500:\tlearn: 326.9498546\ttest: 711.9264071\tbest: 711.8150317 (2491)\ttotal: 2.19s\tremaining: 6.56s\n",
      "2750:\tlearn: 305.4811065\ttest: 709.5887795\tbest: 709.5724147 (2720)\ttotal: 2.4s\tremaining: 6.34s\n",
      "3000:\tlearn: 284.9795565\ttest: 709.5317767\tbest: 709.1468847 (2769)\ttotal: 2.62s\tremaining: 6.12s\n",
      "3250:\tlearn: 266.1130801\ttest: 708.8469810\tbest: 708.4779749 (3173)\ttotal: 2.85s\tremaining: 5.91s\n",
      "3500:\tlearn: 249.1186753\ttest: 707.4826204\tbest: 707.4402666 (3497)\ttotal: 3.09s\tremaining: 5.73s\n",
      "3750:\tlearn: 233.4989683\ttest: 706.9990091\tbest: 706.9990091 (3750)\ttotal: 3.31s\tremaining: 5.52s\n",
      "4000:\tlearn: 220.0550554\ttest: 707.5489363\tbest: 706.8748541 (3764)\ttotal: 3.52s\tremaining: 5.28s\n",
      "4250:\tlearn: 208.5472498\ttest: 707.5356113\tbest: 706.8748541 (3764)\ttotal: 3.73s\tremaining: 5.05s\n",
      "4500:\tlearn: 197.0100440\ttest: 707.5732355\tbest: 706.8748541 (3764)\ttotal: 3.98s\tremaining: 4.87s\n",
      "4750:\tlearn: 186.9672781\ttest: 708.0121618\tbest: 706.8748541 (3764)\ttotal: 4.23s\tremaining: 4.67s\n",
      "5000:\tlearn: 176.4130533\ttest: 708.1563497\tbest: 706.8748541 (3764)\ttotal: 4.46s\tremaining: 4.46s\n",
      "5250:\tlearn: 167.5666432\ttest: 708.6357571\tbest: 706.8748541 (3764)\ttotal: 4.68s\tremaining: 4.23s\n",
      "5500:\tlearn: 159.1923188\ttest: 709.4073894\tbest: 706.8748541 (3764)\ttotal: 4.9s\tremaining: 4s\n",
      "5750:\tlearn: 151.3990151\ttest: 709.9109009\tbest: 706.8748541 (3764)\ttotal: 5.16s\tremaining: 3.81s\n",
      "Stopped by overfitting detector  (2000 iterations wait)\n",
      "\n",
      "bestTest = 706.8748541\n",
      "bestIteration = 3764\n",
      "\n",
      "Shrink model to first 3765 iterations.\n",
      "CPU times: user 12.1 s, sys: 5.86 s, total: 17.9 s\n",
      "Wall time: 5.49 s\n"
     ]
    }
   ],
   "source": [
    "%%time\n",
    "model_file = MODELS_PATH + 'catboost' + '.cbm'\n",
    "\n",
    "# Check if the model is already exists\n",
    "if os.path.isfile(model_file):\n",
    "    # Load model\n",
    "    model = CatBoostRegressor()\n",
    "    model.load_model(model_file)\n",
    "else:\n",
    "    # Train model\n",
    "    iterations = 10000\n",
    "    learning_rate = 0.01\n",
    "    early_stopping_rounds = 2000\n",
    "    train_pool = Pool(x_train.fillna('None'), y_train, cat_features=categ_columns)\n",
    "    valid_pool = Pool(x_valid.fillna('None'), y_valid, cat_features=categ_columns)\n",
    "    model = CatBoostRegressor(iterations,\n",
    "                              learning_rate,\n",
    "                              early_stopping_rounds=early_stopping_rounds,\n",
    "                              random_seed=RANDOM_STATE,\n",
    "                              train_dir=MODELS_PATH + 'catboost/',\n",
    "                              verbose=250)\n",
    "    model.fit(train_pool,\n",
    "              eval_set=valid_pool,\n",
    "              plot=True)\n",
    "    \n",
    "    # Save model\n",
    "    model.save_model(model_file)"
   ]
  },
  {
   "cell_type": "markdown",
   "id": "0f8c7cac-1617-4c64-af6d-c75b50451b4b",
   "metadata": {},
   "source": [
    "## Evaluate"
   ]
  },
  {
   "cell_type": "code",
   "execution_count": 35,
   "id": "36119969-0c2c-403e-99ba-f39c43faa8b1",
   "metadata": {},
   "outputs": [
    {
     "name": "stdout",
     "output_type": "stream",
     "text": [
      "Training MAE:    327 т.р.\n",
      "Validation MAE:  522 т.р.\n",
      "\n",
      "Training RMSE:   454 т.р.\n",
      "Validation RMSE: 706 т.р.\n",
      "\n",
      "Training MAPE:   12.82 %\n",
      "Validation MAPE: 17.54 %\n"
     ]
    }
   ],
   "source": [
    "evaluate(model, x_train.fillna('None'), y_train, x_valid.fillna('None'), y_valid);"
   ]
  },
  {
   "cell_type": "markdown",
   "id": "ccf3c27d-ee7c-4848-8b44-02b3595ce267",
   "metadata": {},
   "source": [
    "# Pipeline\n",
    "## Prepare data"
   ]
  },
  {
   "cell_type": "code",
   "execution_count": 36,
   "id": "83eca71b-b7e3-4b3f-bad1-3fbb8588a4d5",
   "metadata": {},
   "outputs": [
    {
     "data": {
      "text/html": [
       "<div>\n",
       "<style scoped>\n",
       "    .dataframe tbody tr th:only-of-type {\n",
       "        vertical-align: middle;\n",
       "    }\n",
       "\n",
       "    .dataframe tbody tr th {\n",
       "        vertical-align: top;\n",
       "    }\n",
       "\n",
       "    .dataframe thead th {\n",
       "        text-align: right;\n",
       "    }\n",
       "</style>\n",
       "<table border=\"1\" class=\"dataframe\">\n",
       "  <thead>\n",
       "    <tr style=\"text-align: right;\">\n",
       "      <th></th>\n",
       "      <th>Тип квартиры</th>\n",
       "      <th>Район</th>\n",
       "      <th>Улица</th>\n",
       "      <th>Этаж</th>\n",
       "      <th>Планировка</th>\n",
       "      <th>о</th>\n",
       "      <th>ж</th>\n",
       "      <th>к</th>\n",
       "      <th>Этажей</th>\n",
       "    </tr>\n",
       "  </thead>\n",
       "  <tbody>\n",
       "    <tr>\n",
       "      <th>0</th>\n",
       "      <td>Трехкомнатная</td>\n",
       "      <td>None</td>\n",
       "      <td>Проспект Ленина</td>\n",
       "      <td>5</td>\n",
       "      <td>None</td>\n",
       "      <td>80.7</td>\n",
       "      <td>60.0</td>\n",
       "      <td>9.0</td>\n",
       "      <td>5</td>\n",
       "    </tr>\n",
       "    <tr>\n",
       "      <th>1</th>\n",
       "      <td>Трехкомнатная</td>\n",
       "      <td>None</td>\n",
       "      <td>ленинградская</td>\n",
       "      <td>1</td>\n",
       "      <td>None</td>\n",
       "      <td>70.0</td>\n",
       "      <td>45.0</td>\n",
       "      <td>12.0</td>\n",
       "      <td>4</td>\n",
       "    </tr>\n",
       "    <tr>\n",
       "      <th>2</th>\n",
       "      <td>Трехкомнатная</td>\n",
       "      <td>None</td>\n",
       "      <td>Проспект Ленина</td>\n",
       "      <td>5</td>\n",
       "      <td>None</td>\n",
       "      <td>57.7</td>\n",
       "      <td>40.0</td>\n",
       "      <td>8.0</td>\n",
       "      <td>9</td>\n",
       "    </tr>\n",
       "  </tbody>\n",
       "</table>\n",
       "</div>"
      ],
      "text/plain": [
       "    Тип квартиры Район            Улица  Этаж Планировка     о     ж     к  \\\n",
       "0  Трехкомнатная  None  Проспект Ленина     5       None  80.7  60.0   9.0   \n",
       "1  Трехкомнатная  None    ленинградская     1       None  70.0  45.0  12.0   \n",
       "2  Трехкомнатная  None  Проспект Ленина     5       None  57.7  40.0   8.0   \n",
       "\n",
       "   Этажей  \n",
       "0       5  \n",
       "1       4  \n",
       "2       9  "
      ]
     },
     "execution_count": 36,
     "metadata": {},
     "output_type": "execute_result"
    }
   ],
   "source": [
    "# Get data as a list of dicts\n",
    "test_indices = [0, 1, 2]\n",
    "x_test = x_valid.fillna('None').iloc[test_indices, :].to_dict('records')\n",
    "\n",
    "# Convert data to pandas DataFrame\n",
    "x_test = pd.DataFrame(x_test)\n",
    "x_test"
   ]
  },
  {
   "cell_type": "markdown",
   "id": "9ba591b3-4008-47d1-9d0d-3e6a2c3c1f4b",
   "metadata": {},
   "source": [
    "## Load model"
   ]
  },
  {
   "cell_type": "code",
   "execution_count": 37,
   "id": "9e51d973-3280-4af4-ba67-29fb8d89c8ce",
   "metadata": {},
   "outputs": [],
   "source": [
    "model_file = MODELS_PATH + 'catboost' + '.cbm'\n",
    "model = CatBoostRegressor()\n",
    "model.load_model(model_file);"
   ]
  },
  {
   "cell_type": "markdown",
   "id": "39da7c21-d03d-4a54-ac8a-57901083e4d5",
   "metadata": {},
   "source": [
    "## Predict"
   ]
  },
  {
   "cell_type": "code",
   "execution_count": 38,
   "id": "d2b8b54e-faca-4dc3-b1f8-291c6ceaff73",
   "metadata": {},
   "outputs": [
    {
     "data": {
      "text/plain": [
       "array([6772.66603549, 5164.36829973, 3844.98673355])"
      ]
     },
     "execution_count": 38,
     "metadata": {},
     "output_type": "execute_result"
    }
   ],
   "source": [
    "result = model.predict(x_test)\n",
    "result"
   ]
  },
  {
   "cell_type": "markdown",
   "id": "f720c424-5afb-41c2-b85f-c83f93f5bdeb",
   "metadata": {},
   "source": [
    "# Task 2\n",
    "## Libraries importing"
   ]
  },
  {
   "cell_type": "code",
   "execution_count": 39,
   "id": "36d5fce4-4ebd-4c84-b7d1-3a1651f263cf",
   "metadata": {},
   "outputs": [],
   "source": [
    "from sklearn.cluster import KMeans\n",
    "from sklearn.ensemble import RandomForestClassifier\n",
    "from sklearn.manifold import TSNE\n",
    "from sklearn.metrics import (accuracy_score, f1_score, confusion_matrix,\n",
    "                             ConfusionMatrixDisplay, calinski_harabasz_score)\n",
    "from sklearn.preprocessing import LabelEncoder, StandardScaler"
   ]
  },
  {
   "cell_type": "markdown",
   "id": "bb0db2c7-d0ba-4705-93d5-fae85a743d66",
   "metadata": {},
   "source": [
    "## Dataset preprocessing"
   ]
  },
  {
   "cell_type": "code",
   "execution_count": 40,
   "id": "1364d4a8-c8c2-4087-aaaf-364349792e8b",
   "metadata": {},
   "outputs": [
    {
     "data": {
      "text/html": [
       "<div>\n",
       "<style scoped>\n",
       "    .dataframe tbody tr th:only-of-type {\n",
       "        vertical-align: middle;\n",
       "    }\n",
       "\n",
       "    .dataframe tbody tr th {\n",
       "        vertical-align: top;\n",
       "    }\n",
       "\n",
       "    .dataframe thead th {\n",
       "        text-align: right;\n",
       "    }\n",
       "</style>\n",
       "<table border=\"1\" class=\"dataframe\">\n",
       "  <thead>\n",
       "    <tr style=\"text-align: right;\">\n",
       "      <th></th>\n",
       "      <th>Район</th>\n",
       "      <th>о</th>\n",
       "      <th>ж</th>\n",
       "      <th>к</th>\n",
       "      <th>Цена</th>\n",
       "      <th>TRAIN</th>\n",
       "      <th>Тип квартиры_Двухкомнатная</th>\n",
       "      <th>Тип квартиры_Многокомнатная</th>\n",
       "      <th>Тип квартиры_Однокомнатная</th>\n",
       "      <th>Тип квартиры_Трехкомнатная</th>\n",
       "      <th>Тип квартиры_Четырехкомнатная</th>\n",
       "    </tr>\n",
       "    <tr>\n",
       "      <th>id</th>\n",
       "      <th></th>\n",
       "      <th></th>\n",
       "      <th></th>\n",
       "      <th></th>\n",
       "      <th></th>\n",
       "      <th></th>\n",
       "      <th></th>\n",
       "      <th></th>\n",
       "      <th></th>\n",
       "      <th></th>\n",
       "      <th></th>\n",
       "    </tr>\n",
       "  </thead>\n",
       "  <tbody>\n",
       "    <tr>\n",
       "      <th>15909831</th>\n",
       "      <td>1</td>\n",
       "      <td>1.314458</td>\n",
       "      <td>1.277093</td>\n",
       "      <td>0.021593</td>\n",
       "      <td>1.696687</td>\n",
       "      <td>True</td>\n",
       "      <td>0.0</td>\n",
       "      <td>0.0</td>\n",
       "      <td>0.0</td>\n",
       "      <td>1.0</td>\n",
       "      <td>0.0</td>\n",
       "    </tr>\n",
       "    <tr>\n",
       "      <th>15909830</th>\n",
       "      <td>1</td>\n",
       "      <td>1.261430</td>\n",
       "      <td>1.258702</td>\n",
       "      <td>-0.180594</td>\n",
       "      <td>1.947318</td>\n",
       "      <td>True</td>\n",
       "      <td>0.0</td>\n",
       "      <td>0.0</td>\n",
       "      <td>0.0</td>\n",
       "      <td>0.0</td>\n",
       "      <td>1.0</td>\n",
       "    </tr>\n",
       "    <tr>\n",
       "      <th>15927949</th>\n",
       "      <td>1</td>\n",
       "      <td>2.640158</td>\n",
       "      <td>2.809637</td>\n",
       "      <td>1.285263</td>\n",
       "      <td>3.625336</td>\n",
       "      <td>True</td>\n",
       "      <td>0.0</td>\n",
       "      <td>0.0</td>\n",
       "      <td>0.0</td>\n",
       "      <td>1.0</td>\n",
       "      <td>0.0</td>\n",
       "    </tr>\n",
       "    <tr>\n",
       "      <th>15927069</th>\n",
       "      <td>3</td>\n",
       "      <td>-0.233961</td>\n",
       "      <td>0.234963</td>\n",
       "      <td>-0.736609</td>\n",
       "      <td>-0.194832</td>\n",
       "      <td>False</td>\n",
       "      <td>0.0</td>\n",
       "      <td>0.0</td>\n",
       "      <td>0.0</td>\n",
       "      <td>1.0</td>\n",
       "      <td>0.0</td>\n",
       "    </tr>\n",
       "    <tr>\n",
       "      <th>15926372</th>\n",
       "      <td>1</td>\n",
       "      <td>0.709938</td>\n",
       "      <td>-1.971900</td>\n",
       "      <td>0.274327</td>\n",
       "      <td>1.554591</td>\n",
       "      <td>True</td>\n",
       "      <td>0.0</td>\n",
       "      <td>0.0</td>\n",
       "      <td>0.0</td>\n",
       "      <td>0.0</td>\n",
       "      <td>1.0</td>\n",
       "    </tr>\n",
       "    <tr>\n",
       "      <th>...</th>\n",
       "      <td>...</td>\n",
       "      <td>...</td>\n",
       "      <td>...</td>\n",
       "      <td>...</td>\n",
       "      <td>...</td>\n",
       "      <td>...</td>\n",
       "      <td>...</td>\n",
       "      <td>...</td>\n",
       "      <td>...</td>\n",
       "      <td>...</td>\n",
       "      <td>...</td>\n",
       "    </tr>\n",
       "    <tr>\n",
       "      <th>14046477</th>\n",
       "      <td>3</td>\n",
       "      <td>0.635699</td>\n",
       "      <td>0.786679</td>\n",
       "      <td>0.779795</td>\n",
       "      <td>0.983350</td>\n",
       "      <td>True</td>\n",
       "      <td>0.0</td>\n",
       "      <td>0.0</td>\n",
       "      <td>0.0</td>\n",
       "      <td>1.0</td>\n",
       "      <td>0.0</td>\n",
       "    </tr>\n",
       "    <tr>\n",
       "      <th>13463306</th>\n",
       "      <td>0</td>\n",
       "      <td>0.996290</td>\n",
       "      <td>1.460998</td>\n",
       "      <td>0.021593</td>\n",
       "      <td>1.340376</td>\n",
       "      <td>True</td>\n",
       "      <td>0.0</td>\n",
       "      <td>0.0</td>\n",
       "      <td>0.0</td>\n",
       "      <td>1.0</td>\n",
       "      <td>0.0</td>\n",
       "    </tr>\n",
       "    <tr>\n",
       "      <th>13273273</th>\n",
       "      <td>1</td>\n",
       "      <td>-0.276383</td>\n",
       "      <td>-0.132847</td>\n",
       "      <td>0.021593</td>\n",
       "      <td>-0.194832</td>\n",
       "      <td>True</td>\n",
       "      <td>1.0</td>\n",
       "      <td>0.0</td>\n",
       "      <td>0.0</td>\n",
       "      <td>0.0</td>\n",
       "      <td>0.0</td>\n",
       "    </tr>\n",
       "    <tr>\n",
       "      <th>13208365</th>\n",
       "      <td>1</td>\n",
       "      <td>0.519037</td>\n",
       "      <td>0.664075</td>\n",
       "      <td>0.021593</td>\n",
       "      <td>0.697730</td>\n",
       "      <td>False</td>\n",
       "      <td>0.0</td>\n",
       "      <td>0.0</td>\n",
       "      <td>0.0</td>\n",
       "      <td>1.0</td>\n",
       "      <td>0.0</td>\n",
       "    </tr>\n",
       "    <tr>\n",
       "      <th>12926993</th>\n",
       "      <td>1</td>\n",
       "      <td>0.784177</td>\n",
       "      <td>0.847981</td>\n",
       "      <td>-0.231141</td>\n",
       "      <td>0.697730</td>\n",
       "      <td>True</td>\n",
       "      <td>0.0</td>\n",
       "      <td>0.0</td>\n",
       "      <td>0.0</td>\n",
       "      <td>1.0</td>\n",
       "      <td>0.0</td>\n",
       "    </tr>\n",
       "  </tbody>\n",
       "</table>\n",
       "<p>286 rows × 11 columns</p>\n",
       "</div>"
      ],
      "text/plain": [
       "          Район         о         ж         к      Цена  TRAIN  \\\n",
       "id                                                               \n",
       "15909831      1  1.314458  1.277093  0.021593  1.696687   True   \n",
       "15909830      1  1.261430  1.258702 -0.180594  1.947318   True   \n",
       "15927949      1  2.640158  2.809637  1.285263  3.625336   True   \n",
       "15927069      3 -0.233961  0.234963 -0.736609 -0.194832  False   \n",
       "15926372      1  0.709938 -1.971900  0.274327  1.554591   True   \n",
       "...         ...       ...       ...       ...       ...    ...   \n",
       "14046477      3  0.635699  0.786679  0.779795  0.983350   True   \n",
       "13463306      0  0.996290  1.460998  0.021593  1.340376   True   \n",
       "13273273      1 -0.276383 -0.132847  0.021593 -0.194832   True   \n",
       "13208365      1  0.519037  0.664075  0.021593  0.697730  False   \n",
       "12926993      1  0.784177  0.847981 -0.231141  0.697730   True   \n",
       "\n",
       "          Тип квартиры_Двухкомнатная  Тип квартиры_Многокомнатная  \\\n",
       "id                                                                  \n",
       "15909831                         0.0                          0.0   \n",
       "15909830                         0.0                          0.0   \n",
       "15927949                         0.0                          0.0   \n",
       "15927069                         0.0                          0.0   \n",
       "15926372                         0.0                          0.0   \n",
       "...                              ...                          ...   \n",
       "14046477                         0.0                          0.0   \n",
       "13463306                         0.0                          0.0   \n",
       "13273273                         1.0                          0.0   \n",
       "13208365                         0.0                          0.0   \n",
       "12926993                         0.0                          0.0   \n",
       "\n",
       "          Тип квартиры_Однокомнатная  Тип квартиры_Трехкомнатная  \\\n",
       "id                                                                 \n",
       "15909831                         0.0                         1.0   \n",
       "15909830                         0.0                         0.0   \n",
       "15927949                         0.0                         1.0   \n",
       "15927069                         0.0                         1.0   \n",
       "15926372                         0.0                         0.0   \n",
       "...                              ...                         ...   \n",
       "14046477                         0.0                         1.0   \n",
       "13463306                         0.0                         1.0   \n",
       "13273273                         0.0                         0.0   \n",
       "13208365                         0.0                         1.0   \n",
       "12926993                         0.0                         1.0   \n",
       "\n",
       "          Тип квартиры_Четырехкомнатная  \n",
       "id                                       \n",
       "15909831                            0.0  \n",
       "15909830                            1.0  \n",
       "15927949                            0.0  \n",
       "15927069                            0.0  \n",
       "15926372                            1.0  \n",
       "...                                 ...  \n",
       "14046477                            0.0  \n",
       "13463306                            0.0  \n",
       "13273273                            0.0  \n",
       "13208365                            0.0  \n",
       "12926993                            0.0  \n",
       "\n",
       "[286 rows x 11 columns]"
      ]
     },
     "execution_count": 40,
     "metadata": {},
     "output_type": "execute_result"
    }
   ],
   "source": [
    "# Define target feature\n",
    "TARGET = 'Район'\n",
    "\n",
    "# Drop columns\n",
    "df.drop(columns=['Улица', 'Планировка', 'Этаж', 'Этажей'], inplace=True)\n",
    "\n",
    "# Convert types to float\n",
    "df['Цена'] = df['Цена'].astype(float)\n",
    "\n",
    "# Drop rows without city area\n",
    "nan_indices = df.loc[df[TARGET].isna()].index\n",
    "df.drop(nan_indices, inplace=True)\n",
    "\n",
    "# Define feature to split dataframe on train and validation parts\n",
    "_, valid_idx = train_test_split(\n",
    "    range(len(df)),\n",
    "    test_size=VALIDATION_SIZE,\n",
    "    random_state=RANDOM_STATE,\n",
    "    stratify=df[TARGET],\n",
    ")\n",
    "df[TRAIN] = True\n",
    "df.loc[df.iloc[valid_idx].index, TRAIN] = False\n",
    "\n",
    "# Encode labels for target\n",
    "label_encoder = LabelEncoder()\n",
    "df[TARGET] = label_encoder.fit_transform(df[TARGET])\n",
    "\n",
    "# Encod categorical features\n",
    "categ_columns = ['Тип квартиры']\n",
    "encoder = OneHotEncoder(sparse_output=False)\n",
    "encoded = pd.DataFrame(encoder.fit_transform(df[categ_columns]), df.index, encoder.get_feature_names_out())\n",
    "df_encoded = pd.concat([df, encoded], axis=1).drop(columns=categ_columns)\n",
    "\n",
    "# Scale data\n",
    "numeric_columns = ['о', 'ж', 'к', 'Цена']\n",
    "scaler = StandardScaler()\n",
    "scaled_train = pd.DataFrame(scaler.fit_transform(df.loc[df[TRAIN], numeric_columns]), df.loc[df[TRAIN]].index, scaler.get_feature_names_out())\n",
    "scaled_valid = pd.DataFrame(scaler.transform(df.loc[~df[TRAIN], numeric_columns]), df.loc[~df[TRAIN]].index, scaler.get_feature_names_out())\n",
    "df_encoded.loc[df[TRAIN], numeric_columns] = scaled_train\n",
    "df_encoded.loc[~df[TRAIN], numeric_columns] = scaled_valid\n",
    "\n",
    "df_encoded"
   ]
  },
  {
   "cell_type": "markdown",
   "id": "171948d0-eb73-4682-b10d-41bacec0f39b",
   "metadata": {},
   "source": [
    "## Dataset splitting"
   ]
  },
  {
   "cell_type": "code",
   "execution_count": 41,
   "id": "dbc13f9b-6421-43cb-8818-136970b83e74",
   "metadata": {},
   "outputs": [
    {
     "name": "stdout",
     "output_type": "stream",
     "text": [
      "Data shapes: (286, 9) (228, 9) (58, 9) (286,) (228,) (58,)\n"
     ]
    }
   ],
   "source": [
    "# Split encoded data\n",
    "x = df_encoded.drop(columns=[TRAIN, TARGET])\n",
    "y = df_encoded[TARGET]\n",
    "x_train = df_encoded.loc[df_encoded[TRAIN], :].drop(columns=[TRAIN, TARGET])\n",
    "x_valid = df_encoded.loc[~df_encoded[TRAIN], :].drop(columns=[TRAIN, TARGET])\n",
    "y_train = df_encoded.loc[df_encoded[TRAIN], TARGET]\n",
    "y_valid = df_encoded.loc[~df_encoded[TRAIN], TARGET]\n",
    "\n",
    "# Print data shape\n",
    "print('Data shapes:', x.shape, x_train.shape, x_valid.shape, y.shape, y_train.shape, y_valid.shape)"
   ]
  },
  {
   "cell_type": "markdown",
   "id": "c70d0373-8cdb-409e-a009-2c5b6dbe90ed",
   "metadata": {},
   "source": [
    "## KMeans\n",
    "### Fit"
   ]
  },
  {
   "cell_type": "code",
   "execution_count": 42,
   "id": "0c7fd236-f909-459c-83d0-e0c24adce1ff",
   "metadata": {},
   "outputs": [],
   "source": [
    "kmeans = KMeans(n_clusters=4, n_init=4, random_state=RANDOM_STATE)\n",
    "x_train_kmeans = kmeans.fit_transform(x_train)\n",
    "x_valid_kmeans = kmeans.transform(x_valid)"
   ]
  },
  {
   "cell_type": "markdown",
   "id": "70498fdd-d828-4c60-a7bf-b559e5de8c2e",
   "metadata": {},
   "source": [
    "### Show TSNE projection"
   ]
  },
  {
   "cell_type": "code",
   "execution_count": 43,
   "id": "78949b63-5102-4f43-bf9a-9ce3fdabedb2",
   "metadata": {},
   "outputs": [
    {
     "data": {
      "image/png": "[encoded data removed]",
      "text/plain": [
       "<Figure size 640x480 with 1 Axes>"
      ]
     },
     "metadata": {},
     "output_type": "display_data"
    }
   ],
   "source": [
    "# Compute TSNE projection\n",
    "tsne = TSNE(n_jobs=-1)\n",
    "projection = tsne.fit_transform(x_train_kmeans)\n",
    "\n",
    "# Show result\n",
    "_, ax = plt.subplots()\n",
    "for cluster in range(4):\n",
    "    ax.scatter(\n",
    "        *projection[y_train == cluster].T,\n",
    "        marker=f\"${cluster}$\",\n",
    "        s=60,\n",
    "        color=plt.cm.Dark2(cluster),\n",
    "        alpha=0.425,\n",
    "        zorder=2,\n",
    "    )\n",
    "ax.set_title('TSNE projection')\n",
    "ax.axis(\"off\");"
   ]
  },
  {
   "cell_type": "markdown",
   "id": "a4576fbd-158f-4324-9bff-76ba5d5ae233",
   "metadata": {},
   "source": [
    "### Evaluate"
   ]
  },
  {
   "cell_type": "code",
   "execution_count": 44,
   "id": "f6a30a45-22ed-4257-b5d3-d18f3bd6555f",
   "metadata": {},
   "outputs": [],
   "source": [
    "def evaluate(model, x_train, y_train, x_valid, y_valid):\n",
    "    # Predict\n",
    "    pred_train = model.predict(x_train)\n",
    "    pred_valid = model.predict(x_valid)\n",
    "\n",
    "    # Compute metrics\n",
    "    accuracy_train = accuracy_score(y_train, pred_train)\n",
    "    accuracy_valid = accuracy_score(y_valid, pred_valid)\n",
    "    f1_micro_train = f1_score(y_train, pred_train, average='micro')\n",
    "    f1_micro_valid = f1_score(y_valid, pred_valid, average='micro')\n",
    "    f1_macro_train = f1_score(y_train, pred_train, average='macro')\n",
    "    f1_macro_valid = f1_score(y_valid, pred_valid, average='macro')\n",
    "    f1_weighted_train = f1_score(y_train, pred_train, average='weighted')\n",
    "    f1_weighted_valid = f1_score(y_valid, pred_valid, average='weighted')\n",
    "\n",
    "    # Print metrics\n",
    "    print(f'Training accuracy:      {(accuracy_train*100):.2f} %')\n",
    "    print(f'Validation accuracy:    {(accuracy_valid*100):.2f} %')\n",
    "    print()\n",
    "    print(f'Training F1-micro:      {(f1_micro_train*100):.2f} %')\n",
    "    print(f'Validation F1-micro:    {(f1_micro_valid*100):.2f} %')\n",
    "    print()\n",
    "    print(f'Training F1-macro:      {(f1_macro_train*100):.2f} %')\n",
    "    print(f'Validation F1-macro:    {(f1_macro_valid*100):.2f} %')\n",
    "    print()\n",
    "    print(f'Training F1-weighted:   {(f1_weighted_train*100):.2f} %')\n",
    "    print(f'Validation F1-weighted: {(f1_weighted_valid*100):.2f} %')\n",
    "    print()\n",
    "\n",
    "    # Print label correspondance\n",
    "    for i in range(4):\n",
    "        print(i, '=', label_encoder.inverse_transform([i])[0])\n",
    "\n",
    "    # Show confusion matrix\n",
    "    cm = confusion_matrix(y_valid, pred_valid)\n",
    "    cm_display = ConfusionMatrixDisplay(cm).plot()\n",
    "    \n",
    "    return (accuracy_train, accuracy_valid, f1_micro_train, f1_micro_valid,\n",
    "            f1_macro_train, f1_macro_valid, f1_weighted_train, f1_weighted_valid)"
   ]
  },
  {
   "cell_type": "code",
   "execution_count": 45,
   "id": "8ce7aa67-2af2-4291-8b2e-44c5e47b27bc",
   "metadata": {},
   "outputs": [
    {
     "name": "stdout",
     "output_type": "stream",
     "text": [
      "Training accuracy:      21.93 %\n",
      "Validation accuracy:    34.48 %\n",
      "\n",
      "Training F1-micro:      21.93 %\n",
      "Validation F1-micro:    34.48 %\n",
      "\n",
      "Training F1-macro:      20.33 %\n",
      "Validation F1-macro:    32.35 %\n",
      "\n",
      "Training F1-weighted:   23.28 %\n",
      "Validation F1-weighted: 37.47 %\n",
      "\n",
      "0 = Ленинский\n",
      "1 = Орджоникидзевский\n",
      "2 = Орджоникидзевский (левый берег)\n",
      "3 = Правобережный\n"
     ]
    },
    {
     "data": {
      "image/png": "[encoded data removed]",
      "text/plain": [
       "<Figure size 640x480 with 2 Axes>"
      ]
     },
     "metadata": {},
     "output_type": "display_data"
    }
   ],
   "source": [
    "evaluate(kmeans, x_train, y_train, x_valid, y_valid);"
   ]
  },
  {
   "cell_type": "markdown",
   "id": "70f1872c-f745-4f7e-841b-49033544adf9",
   "metadata": {},
   "source": [
    "**Comments**\n",
    "___\n",
    "The result is about random prediction."
   ]
  },
  {
   "cell_type": "markdown",
   "id": "ea1cb5ea-1a55-477c-8fef-de34445b5693",
   "metadata": {},
   "source": [
    "## KMeans + Random Forest Classifier\n",
    "### Fit KMeans"
   ]
  },
  {
   "cell_type": "code",
   "execution_count": 46,
   "id": "40ad7782-2504-4c7e-8bd7-ac988ccf2a60",
   "metadata": {},
   "outputs": [
    {
     "data": {
      "text/plain": [
       "{2: 132.30955620437922,\n",
       " 3: 111.85933079200561,\n",
       " 4: 109.28279759528989,\n",
       " 5: 109.37870721483796,\n",
       " 6: 113.0270762590447,\n",
       " 7: 114.0710511340596,\n",
       " 8: 111.23940677087957,\n",
       " 9: 111.15930293401429,\n",
       " 10: 113.1429283141787,\n",
       " 11: 109.80084804146344,\n",
       " 12: 107.09310651244817,\n",
       " 13: 108.20523575985148,\n",
       " 14: 101.21802895370134,\n",
       " 15: 105.8116109618251,\n",
       " 16: 99.36492581568118,\n",
       " 17: 96.56177960587765,\n",
       " 18: 99.00042593251396,\n",
       " 19: 99.99815987558236}"
      ]
     },
     "execution_count": 46,
     "metadata": {},
     "output_type": "execute_result"
    }
   ],
   "source": [
    "# Train KMeans with the best number of clusters\n",
    "score = {}\n",
    "best_score = 0\n",
    "for i in range(2, 20):\n",
    "    kmeans = KMeans(n_clusters=i, n_init=4, random_state=RANDOM_STATE)\n",
    "    kmeans = kmeans.fit(x_train)\n",
    "    labels = kmeans.labels_\n",
    "    score[i] = calinski_harabasz_score(x_train, labels)\n",
    "    if score[i] > best_score:\n",
    "        best_score = score[i]\n",
    "        best_kmeans = kmeans\n",
    "kmeans = best_kmeans\n",
    "score"
   ]
  },
  {
   "cell_type": "markdown",
   "id": "2707e770-79d2-46fa-b734-578e55f8b338",
   "metadata": {},
   "source": [
    "### Show TSNE projection"
   ]
  },
  {
   "cell_type": "code",
   "execution_count": 47,
   "id": "83b79c50-0567-42f6-be92-30e3657aae8f",
   "metadata": {},
   "outputs": [
    {
     "data": {
      "image/png": "[encoded data removed]",
      "text/plain": [
       "<Figure size 640x480 with 1 Axes>"
      ]
     },
     "metadata": {},
     "output_type": "display_data"
    }
   ],
   "source": [
    "# Compute TSNE projection\n",
    "tsne = TSNE(n_jobs=-1)\n",
    "projection = tsne.fit_transform(kmeans.transform(x_train))\n",
    "\n",
    "# Show result\n",
    "_, ax = plt.subplots()\n",
    "for cluster in range(4):\n",
    "    ax.scatter(\n",
    "        *projection[y_train == cluster].T,\n",
    "        marker=f\"${cluster}$\",\n",
    "        s=60,\n",
    "        color=plt.cm.Dark2(cluster),\n",
    "        alpha=0.425,\n",
    "        zorder=2,\n",
    "    )\n",
    "ax.set_title('TSNE projection')\n",
    "ax.axis(\"off\");"
   ]
  },
  {
   "cell_type": "markdown",
   "id": "f8655960-fbd8-423b-8453-853764d6251b",
   "metadata": {},
   "source": [
    "### Add KMeans data"
   ]
  },
  {
   "cell_type": "code",
   "execution_count": 48,
   "id": "029e9f10-cdc2-40d0-b7ff-b03ebf3cc4da",
   "metadata": {},
   "outputs": [
    {
     "data": {
      "text/html": [
       "<div>\n",
       "<style scoped>\n",
       "    .dataframe tbody tr th:only-of-type {\n",
       "        vertical-align: middle;\n",
       "    }\n",
       "\n",
       "    .dataframe tbody tr th {\n",
       "        vertical-align: top;\n",
       "    }\n",
       "\n",
       "    .dataframe thead th {\n",
       "        text-align: right;\n",
       "    }\n",
       "</style>\n",
       "<table border=\"1\" class=\"dataframe\">\n",
       "  <thead>\n",
       "    <tr style=\"text-align: right;\">\n",
       "      <th></th>\n",
       "      <th>kmeans0</th>\n",
       "      <th>kmeans1</th>\n",
       "      <th>о</th>\n",
       "      <th>ж</th>\n",
       "      <th>к</th>\n",
       "      <th>Цена</th>\n",
       "      <th>Тип квартиры_Двухкомнатная</th>\n",
       "      <th>Тип квартиры_Многокомнатная</th>\n",
       "      <th>Тип квартиры_Однокомнатная</th>\n",
       "      <th>Тип квартиры_Трехкомнатная</th>\n",
       "      <th>Тип квартиры_Четырехкомнатная</th>\n",
       "    </tr>\n",
       "    <tr>\n",
       "      <th>id</th>\n",
       "      <th></th>\n",
       "      <th></th>\n",
       "      <th></th>\n",
       "      <th></th>\n",
       "      <th></th>\n",
       "      <th></th>\n",
       "      <th></th>\n",
       "      <th></th>\n",
       "      <th></th>\n",
       "      <th></th>\n",
       "      <th></th>\n",
       "    </tr>\n",
       "  </thead>\n",
       "  <tbody>\n",
       "    <tr>\n",
       "      <th>15909831</th>\n",
       "      <td>1.118723</td>\n",
       "      <td>3.623499</td>\n",
       "      <td>1.314458</td>\n",
       "      <td>1.277093</td>\n",
       "      <td>0.021593</td>\n",
       "      <td>1.696687</td>\n",
       "      <td>0.0</td>\n",
       "      <td>0.0</td>\n",
       "      <td>0.0</td>\n",
       "      <td>1.0</td>\n",
       "      <td>0.0</td>\n",
       "    </tr>\n",
       "    <tr>\n",
       "      <th>15909830</th>\n",
       "      <td>1.784983</td>\n",
       "      <td>3.766941</td>\n",
       "      <td>1.261430</td>\n",
       "      <td>1.258702</td>\n",
       "      <td>-0.180594</td>\n",
       "      <td>1.947318</td>\n",
       "      <td>0.0</td>\n",
       "      <td>0.0</td>\n",
       "      <td>0.0</td>\n",
       "      <td>0.0</td>\n",
       "      <td>1.0</td>\n",
       "    </tr>\n",
       "    <tr>\n",
       "      <th>15927949</th>\n",
       "      <td>3.895128</td>\n",
       "      <td>6.512568</td>\n",
       "      <td>2.640158</td>\n",
       "      <td>2.809637</td>\n",
       "      <td>1.285263</td>\n",
       "      <td>3.625336</td>\n",
       "      <td>0.0</td>\n",
       "      <td>0.0</td>\n",
       "      <td>0.0</td>\n",
       "      <td>1.0</td>\n",
       "      <td>0.0</td>\n",
       "    </tr>\n",
       "    <tr>\n",
       "      <th>15926372</th>\n",
       "      <td>3.061221</td>\n",
       "      <td>3.191613</td>\n",
       "      <td>0.709938</td>\n",
       "      <td>-1.971900</td>\n",
       "      <td>0.274327</td>\n",
       "      <td>1.554591</td>\n",
       "      <td>0.0</td>\n",
       "      <td>0.0</td>\n",
       "      <td>0.0</td>\n",
       "      <td>0.0</td>\n",
       "      <td>1.0</td>\n",
       "    </tr>\n",
       "    <tr>\n",
       "      <th>15926370</th>\n",
       "      <td>3.697675</td>\n",
       "      <td>1.794068</td>\n",
       "      <td>-0.806663</td>\n",
       "      <td>-1.971900</td>\n",
       "      <td>-0.104774</td>\n",
       "      <td>-0.187692</td>\n",
       "      <td>0.0</td>\n",
       "      <td>0.0</td>\n",
       "      <td>1.0</td>\n",
       "      <td>0.0</td>\n",
       "      <td>0.0</td>\n",
       "    </tr>\n",
       "    <tr>\n",
       "      <th>...</th>\n",
       "      <td>...</td>\n",
       "      <td>...</td>\n",
       "      <td>...</td>\n",
       "      <td>...</td>\n",
       "      <td>...</td>\n",
       "      <td>...</td>\n",
       "      <td>...</td>\n",
       "      <td>...</td>\n",
       "      <td>...</td>\n",
       "      <td>...</td>\n",
       "      <td>...</td>\n",
       "    </tr>\n",
       "    <tr>\n",
       "      <th>14105037</th>\n",
       "      <td>3.722036</td>\n",
       "      <td>1.299233</td>\n",
       "      <td>-1.273310</td>\n",
       "      <td>-0.807167</td>\n",
       "      <td>-0.736609</td>\n",
       "      <td>-0.944585</td>\n",
       "      <td>0.0</td>\n",
       "      <td>0.0</td>\n",
       "      <td>1.0</td>\n",
       "      <td>0.0</td>\n",
       "      <td>0.0</td>\n",
       "    </tr>\n",
       "    <tr>\n",
       "      <th>14046477</th>\n",
       "      <td>0.570681</td>\n",
       "      <td>2.795561</td>\n",
       "      <td>0.635699</td>\n",
       "      <td>0.786679</td>\n",
       "      <td>0.779795</td>\n",
       "      <td>0.983350</td>\n",
       "      <td>0.0</td>\n",
       "      <td>0.0</td>\n",
       "      <td>0.0</td>\n",
       "      <td>1.0</td>\n",
       "      <td>0.0</td>\n",
       "    </tr>\n",
       "    <tr>\n",
       "      <th>13463306</th>\n",
       "      <td>0.961561</td>\n",
       "      <td>3.347692</td>\n",
       "      <td>0.996290</td>\n",
       "      <td>1.460998</td>\n",
       "      <td>0.021593</td>\n",
       "      <td>1.340376</td>\n",
       "      <td>0.0</td>\n",
       "      <td>0.0</td>\n",
       "      <td>0.0</td>\n",
       "      <td>1.0</td>\n",
       "      <td>0.0</td>\n",
       "    </tr>\n",
       "    <tr>\n",
       "      <th>13273273</th>\n",
       "      <td>2.240092</td>\n",
       "      <td>0.873379</td>\n",
       "      <td>-0.276383</td>\n",
       "      <td>-0.132847</td>\n",
       "      <td>0.021593</td>\n",
       "      <td>-0.194832</td>\n",
       "      <td>1.0</td>\n",
       "      <td>0.0</td>\n",
       "      <td>0.0</td>\n",
       "      <td>0.0</td>\n",
       "      <td>0.0</td>\n",
       "    </tr>\n",
       "    <tr>\n",
       "      <th>12926993</th>\n",
       "      <td>0.783159</td>\n",
       "      <td>2.543090</td>\n",
       "      <td>0.784177</td>\n",
       "      <td>0.847981</td>\n",
       "      <td>-0.231141</td>\n",
       "      <td>0.697730</td>\n",
       "      <td>0.0</td>\n",
       "      <td>0.0</td>\n",
       "      <td>0.0</td>\n",
       "      <td>1.0</td>\n",
       "      <td>0.0</td>\n",
       "    </tr>\n",
       "  </tbody>\n",
       "</table>\n",
       "<p>228 rows × 11 columns</p>\n",
       "</div>"
      ],
      "text/plain": [
       "           kmeans0   kmeans1         о         ж         к      Цена  \\\n",
       "id                                                                     \n",
       "15909831  1.118723  3.623499  1.314458  1.277093  0.021593  1.696687   \n",
       "15909830  1.784983  3.766941  1.261430  1.258702 -0.180594  1.947318   \n",
       "15927949  3.895128  6.512568  2.640158  2.809637  1.285263  3.625336   \n",
       "15926372  3.061221  3.191613  0.709938 -1.971900  0.274327  1.554591   \n",
       "15926370  3.697675  1.794068 -0.806663 -1.971900 -0.104774 -0.187692   \n",
       "...            ...       ...       ...       ...       ...       ...   \n",
       "14105037  3.722036  1.299233 -1.273310 -0.807167 -0.736609 -0.944585   \n",
       "14046477  0.570681  2.795561  0.635699  0.786679  0.779795  0.983350   \n",
       "13463306  0.961561  3.347692  0.996290  1.460998  0.021593  1.340376   \n",
       "13273273  2.240092  0.873379 -0.276383 -0.132847  0.021593 -0.194832   \n",
       "12926993  0.783159  2.543090  0.784177  0.847981 -0.231141  0.697730   \n",
       "\n",
       "          Тип квартиры_Двухкомнатная  Тип квартиры_Многокомнатная  \\\n",
       "id                                                                  \n",
       "15909831                         0.0                          0.0   \n",
       "15909830                         0.0                          0.0   \n",
       "15927949                         0.0                          0.0   \n",
       "15926372                         0.0                          0.0   \n",
       "15926370                         0.0                          0.0   \n",
       "...                              ...                          ...   \n",
       "14105037                         0.0                          0.0   \n",
       "14046477                         0.0                          0.0   \n",
       "13463306                         0.0                          0.0   \n",
       "13273273                         1.0                          0.0   \n",
       "12926993                         0.0                          0.0   \n",
       "\n",
       "          Тип квартиры_Однокомнатная  Тип квартиры_Трехкомнатная  \\\n",
       "id                                                                 \n",
       "15909831                         0.0                         1.0   \n",
       "15909830                         0.0                         0.0   \n",
       "15927949                         0.0                         1.0   \n",
       "15926372                         0.0                         0.0   \n",
       "15926370                         1.0                         0.0   \n",
       "...                              ...                         ...   \n",
       "14105037                         1.0                         0.0   \n",
       "14046477                         0.0                         1.0   \n",
       "13463306                         0.0                         1.0   \n",
       "13273273                         0.0                         0.0   \n",
       "12926993                         0.0                         1.0   \n",
       "\n",
       "          Тип квартиры_Четырехкомнатная  \n",
       "id                                       \n",
       "15909831                            0.0  \n",
       "15909830                            1.0  \n",
       "15927949                            0.0  \n",
       "15926372                            1.0  \n",
       "15926370                            0.0  \n",
       "...                                 ...  \n",
       "14105037                            0.0  \n",
       "14046477                            0.0  \n",
       "13463306                            0.0  \n",
       "13273273                            0.0  \n",
       "12926993                            0.0  \n",
       "\n",
       "[228 rows x 11 columns]"
      ]
     },
     "execution_count": 48,
     "metadata": {},
     "output_type": "execute_result"
    }
   ],
   "source": [
    "x_train_kmeans = pd.DataFrame(best_kmeans.transform(x_train), x_train.index, best_kmeans.get_feature_names_out())\n",
    "x_train = pd.concat([x_train_kmeans, x_train], axis=1)\n",
    "\n",
    "x_valid_kmeans = pd.DataFrame(best_kmeans.transform(x_valid), x_valid.index, best_kmeans.get_feature_names_out())\n",
    "x_valid = pd.concat([x_valid_kmeans, x_valid], axis=1)\n",
    "\n",
    "x_train"
   ]
  },
  {
   "cell_type": "markdown",
   "id": "22d2a048-7d93-4253-a1a1-17f3076f7ddf",
   "metadata": {},
   "source": [
    "### Fit Ransom Forest"
   ]
  },
  {
   "cell_type": "code",
   "execution_count": 49,
   "id": "8c886026-956d-4be3-9209-9c3a71125873",
   "metadata": {},
   "outputs": [
    {
     "name": "stdout",
     "output_type": "stream",
     "text": [
      "CPU times: user 517 ms, sys: 357 ms, total: 874 ms\n",
      "Wall time: 119 ms\n"
     ]
    }
   ],
   "source": [
    "%%time\n",
    "rf_model = RandomForestClassifier(n_estimators=100, n_jobs=-1, random_state=RANDOM_STATE)\n",
    "rf_model.fit(x_train, y_train);"
   ]
  },
  {
   "cell_type": "markdown",
   "id": "b15d065f-3885-4f3b-8a62-7a981d1cd09c",
   "metadata": {},
   "source": [
    "### Evaluate"
   ]
  },
  {
   "cell_type": "code",
   "execution_count": 50,
   "id": "20dfe93b-7ed2-405e-9636-b574c9afdfa2",
   "metadata": {},
   "outputs": [
    {
     "name": "stdout",
     "output_type": "stream",
     "text": [
      "Training accuracy:      100.00 %\n",
      "Validation accuracy:    51.72 %\n",
      "\n",
      "Training F1-micro:      100.00 %\n",
      "Validation F1-micro:    51.72 %\n",
      "\n",
      "Training F1-macro:      100.00 %\n",
      "Validation F1-macro:    37.39 %\n",
      "\n",
      "Training F1-weighted:   100.00 %\n",
      "Validation F1-weighted: 49.64 %\n",
      "\n",
      "0 = Ленинский\n",
      "1 = Орджоникидзевский\n",
      "2 = Орджоникидзевский (левый берег)\n",
      "3 = Правобережный\n"
     ]
    },
    {
     "data": {
      "image/png": "[encoded data removed]",
      "text/plain": [
       "<Figure size 640x480 with 2 Axes>"
      ]
     },
     "metadata": {},
     "output_type": "display_data"
    }
   ],
   "source": [
    "evaluate(rf_model, x_train, y_train, x_valid, y_valid);"
   ]
  }
 ],
 "metadata": {
  "kernelspec": {
   "display_name": "Python 3 (ipykernel)",
   "language": "python",
   "name": "python3"
  },
  "language_info": {
   "codemirror_mode": {
    "name": "ipython",
    "version": 3
   },
   "file_extension": ".py",
   "mimetype": "text/x-python",
   "name": "python",
   "nbconvert_exporter": "python",
   "pygments_lexer": "ipython3",
   "version": "3.10.9"
  }
 },
 "nbformat": 4,
 "nbformat_minor": 5
}
